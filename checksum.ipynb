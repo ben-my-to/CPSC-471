{
 "cells": [
  {
   "cell_type": "code",
   "execution_count": 1,
   "id": "c820faa7",
   "metadata": {},
   "outputs": [],
   "source": [
    "from typing import Generator\n",
    "from copy import deepcopy"
   ]
  },
  {
   "cell_type": "code",
   "execution_count": 2,
   "id": "016f8dab",
   "metadata": {},
   "outputs": [],
   "source": [
    "class BinStr:\n",
    "    def __init__(self, v=\"\", *, lpad=0, rpad=0):\n",
    "        if isinstance(v, str):\n",
    "            if any(i not in {\"\", \"0\", \"1\"} for i in v):\n",
    "                raise ValueError(\"Values must be binary (0/1)\")\n",
    "            self.v = \"\".rjust(lpad, \"0\") + v + \"\".ljust(rpad, \"0\")\n",
    "        elif isinstance(v, Generator):\n",
    "            self.v = \"\".join(map(str, v))\n",
    "\n",
    "    def __repr__(self):\n",
    "        return self.v\n",
    "\n",
    "    def __len__(self):\n",
    "        return len(self.v)\n",
    "\n",
    "    def __iter__(self):\n",
    "        yield from map(int, self.v)\n",
    "\n",
    "    def __getitem__(self, x):\n",
    "        return BinStr(self.v[x])\n",
    "\n",
    "    def __reversed__(self):\n",
    "        return BinStr(self.v[::-1])\n",
    "\n",
    "    def __invert__(self):\n",
    "        return BinStr(1 - a for a in self)\n",
    "\n",
    "    def __or__(self, other):\n",
    "        return BinStr(self.v + other.v)\n",
    "\n",
    "    def __lshift__(self, other):\n",
    "        temp, self.v = self[:other], repr(self[other:])\n",
    "        return temp\n",
    "\n",
    "    def __int__(self):\n",
    "        return sum(int(repr(self[i])) * 2 ** (len(self) - i - 1) for i in range(len(self)))\n",
    "\n",
    "    def __add__(self, other):\n",
    "        if len(self) != len(other):\n",
    "            if len(self) > len(other):\n",
    "                other.v = other.v.rjust(len(self), \"0\")\n",
    "            else:\n",
    "                self.v = self.v.rjust(len(other), \"0\")\n",
    "\n",
    "        carry = 0\n",
    "        z = [None] * len(self)\n",
    "\n",
    "        gen = (a + b + carry for a, b in zip(*map(reversed, [self, other])))\n",
    "\n",
    "        for i, w in enumerate(gen, start=1):\n",
    "            carry, z[-i] = divmod(w, 2)\n",
    "\n",
    "        if carry:\n",
    "            z.insert(0, 1)\n",
    "\n",
    "        return BinStr(_ for _ in z)\n",
    "\n",
    "    def __xor__(self, other):\n",
    "        return BinStr(abs(a - b) for a, b in zip(self, other))\n",
    "\n",
    "    def __truediv__(self, G):\n",
    "        \"\"\"\n",
    "        101 11010100\n",
    "            101\n",
    "             111\n",
    "             101\n",
    "              100\n",
    "              101\n",
    "                110\n",
    "                101\n",
    "                 110\n",
    "                 101\n",
    "                  11\n",
    "        \"\"\"\n",
    "        D = deepcopy(self)\n",
    "        R = BinStr()  # CRC bits\n",
    "\n",
    "        offset = wnd_base = len(G)\n",
    "        print(G, D)\n",
    "\n",
    "        while D:\n",
    "            R |= D << offset\n",
    "\n",
    "            if wnd_base != len(G):\n",
    "                print(\" \" * wnd_base, R)\n",
    "\n",
    "            R ^= G\n",
    "            R.v = R.v.lstrip(\"0\")\n",
    "\n",
    "            print(\" \" * wnd_base, G)\n",
    "            print(\" \" * wnd_base, \"-\" * len(G))\n",
    "\n",
    "            offset = len(G) - len(R)\n",
    "            wnd_base += offset\n",
    "\n",
    "        R = BinStr(R.v, lpad=offset - 1)\n",
    "        print(\" \" * wnd_base, R)\n",
    "\n",
    "        del D\n",
    "        return R"
   ]
  },
  {
   "cell_type": "code",
   "execution_count": 3,
   "id": "c900f9b2",
   "metadata": {},
   "outputs": [
    {
     "name": "stdout",
     "output_type": "stream",
     "text": [
      "1001 101110000\n",
      "     1001\n",
      "     ----\n",
      "       1010\n",
      "       1001\n",
      "       ----\n",
      "         1100\n",
      "         1001\n",
      "         ----\n",
      "          1010\n",
      "          1001\n",
      "          ----\n",
      "            011\n",
      "\n",
      "1001 101110011\n",
      "     1001\n",
      "     ----\n",
      "       1010\n",
      "       1001\n",
      "       ----\n",
      "         1101\n",
      "         1001\n",
      "         ----\n",
      "          1001\n",
      "          1001\n",
      "          ----\n",
      "              000\n"
     ]
    },
    {
     "data": {
      "text/plain": [
       "000"
      ]
     },
     "execution_count": 3,
     "metadata": {},
     "output_type": "execute_result"
    }
   ],
   "source": [
    "D = BinStr(\"101110\")\n",
    "G = BinStr(\"1001\")\n",
    "r = len(G) - 1\n",
    "\n",
    "R = (D | BinStr(\"0\" * r)) / G\n",
    "print()\n",
    "(D | R) / G"
   ]
  },
  {
   "cell_type": "code",
   "execution_count": 4,
   "id": "6f09f409",
   "metadata": {},
   "outputs": [],
   "source": [
    "def checksum(a, b):\n",
    "    c = a + b\n",
    "    if len(c) > len(a):\n",
    "        c = c[1:] + BinStr(\"1\")\n",
    "    return ~c"
   ]
  },
  {
   "cell_type": "code",
   "execution_count": 5,
   "id": "1b300300",
   "metadata": {},
   "outputs": [],
   "source": [
    "def test(actual, expected):\n",
    "    assert repr(actual) == expected\n",
    "\n",
    "def test_all(actual, expected, op):\n",
    "    assert all(op(i) == j for i, j in zip(actual, expected))\n",
    "\n",
    "# Test [REVERSED]\n",
    "test(reversed(BinStr(\"0011\")), \"1100\")\n",
    "# Test [NOT]\n",
    "test(~BinStr(\"1\"), \"0\")\n",
    "# Test [ADD w/ Padding]\n",
    "test(BinStr(\"00\") + BinStr(\"1\"), \"01\")\n",
    "test(BinStr(\"1\") + BinStr(\"00\"), \"01\")\n",
    "# Test [XOR]\n",
    "test(BinStr(\"1010\") ^ BinStr(\"0011\"), \"1001\")\n",
    "\n",
    "# Test [INT]\n",
    "test_all(map(BinStr, [\"0\", \"1\", \"10\", \"11\", \"100\", \"101\", \"110\"]), range(6), int)\n",
    "\n",
    "# Test [ADD] and [Checksum w/ Overflow]\n",
    "test(checksum(BinStr(\"11010\"), BinStr(\"11100\")), \"01000\")\n",
    "# Test [Checksum w/o Overflow]\n",
    "test(checksum(BinStr(\"0\"), BinStr(\"1\")), \"0\")"
   ]
  },
  {
   "cell_type": "code",
   "execution_count": 6,
   "id": "79323cf3",
   "metadata": {},
   "outputs": [
    {
     "data": {
      "text/plain": [
       "1110"
      ]
     },
     "execution_count": 6,
     "metadata": {},
     "output_type": "execute_result"
    }
   ],
   "source": [
    "a = BinStr(\"1111\")\n",
    "b = BinStr(\"1\")\n",
    "\n",
    "checksum(a, b)"
   ]
  },
  {
   "cell_type": "code",
   "execution_count": null,
   "id": "1128d11d",
   "metadata": {},
   "outputs": [],
   "source": []
  }
 ],
 "metadata": {
  "kernelspec": {
   "display_name": "Python 3 (ipykernel)",
   "language": "python",
   "name": "python3"
  },
  "language_info": {
   "codemirror_mode": {
    "name": "ipython",
    "version": 3
   },
   "file_extension": ".py",
   "mimetype": "text/x-python",
   "name": "python",
   "nbconvert_exporter": "python",
   "pygments_lexer": "ipython3",
   "version": "3.11.3"
  }
 },
 "nbformat": 4,
 "nbformat_minor": 5
}
