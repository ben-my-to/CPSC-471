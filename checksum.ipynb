{
 "cells": [
  {
   "cell_type": "code",
   "execution_count": 5,
   "id": "c820faa7",
   "metadata": {},
   "outputs": [],
   "source": [
    "def NOT(a):\n",
    "    return ''.join(['0' if i == '1' else '1' for i in a])\n",
    "\n",
    "def btod(x):\n",
    "    \"\"\"Converts binary string to decimal\"\"\"\n",
    "    k = len(x) - 1\n",
    "    return sum(int(x[i])*(2**(k-i)) for i in range(k+1))\n",
    "\n",
    "def bin_add(n):\n",
    "    carry = 0\n",
    "    z = []\n",
    "    \n",
    "    gen = (int(a) + int(b) + carry for a, b in zip(*map(reversed, n)))\n",
    "\n",
    "    for w in gen:\n",
    "        carry, r = divmod(w, 2)\n",
    "        z.append(str(r))\n",
    "\n",
    "    if carry:\n",
    "        z.append('1')\n",
    "\n",
    "    z = ''.join(reversed(z))\n",
    "    assert sum(map(btod, n)) == btod(z)\n",
    "\n",
    "    return z"
   ]
  },
  {
   "cell_type": "code",
   "execution_count": 6,
   "id": "c86cdd18",
   "metadata": {},
   "outputs": [],
   "source": [
    "# _______TESTING_______\n",
    "\n",
    "assert bin_add(['0', '0']) == '0'\n",
    "assert bin_add(['1', '0']) == '1'\n",
    "assert bin_add(['0', '1']) == '1'\n",
    "assert bin_add(['11', '11']) == '110'\n",
    "\n",
    "# _______TESTING_______"
   ]
  },
  {
   "cell_type": "code",
   "execution_count": 7,
   "id": "5645a2c2",
   "metadata": {},
   "outputs": [],
   "source": [
    "a = '1000110101011000'\n",
    "b = '1000111000101100'"
   ]
  },
  {
   "cell_type": "code",
   "execution_count": 8,
   "id": "e42ccddb",
   "metadata": {},
   "outputs": [],
   "source": [
    "# Check same length and only zeros and ones\n",
    "assert len(a) == len(b) and \\\n",
    "    all(all(j in {'0', '1'} for j in i) for i in [a, b])"
   ]
  },
  {
   "cell_type": "code",
   "execution_count": 9,
   "id": "2f472129",
   "metadata": {},
   "outputs": [
    {
     "data": {
      "text/plain": [
       "'10001101110000100'"
      ]
     },
     "execution_count": 9,
     "metadata": {},
     "output_type": "execute_result"
    }
   ],
   "source": [
    "c = bin_add([a, b])"
   ]
  },
  {
   "cell_type": "code",
   "execution_count": 12,
   "id": "7c4fa747",
   "metadata": {},
   "outputs": [
    {
     "data": {
      "text/plain": [
       "'1110010001111010'"
      ]
     },
     "execution_count": 12,
     "metadata": {},
     "output_type": "execute_result"
    }
   ],
   "source": [
    "if len(c) > len(a):\n",
    "    p, q = c[1:], ('0' * len(c[1:])) + '1'\n",
    "    c = bin_add([p, q])\n",
    "    \n",
    "NOT(c)"
   ]
  },
  {
   "cell_type": "code",
   "execution_count": null,
   "id": "95ecfc6b",
   "metadata": {},
   "outputs": [],
   "source": []
  }
 ],
 "metadata": {
  "kernelspec": {
   "display_name": "Python 3 (ipykernel)",
   "language": "python",
   "name": "python3"
  },
  "language_info": {
   "codemirror_mode": {
    "name": "ipython",
    "version": 3
   },
   "file_extension": ".py",
   "mimetype": "text/x-python",
   "name": "python",
   "nbconvert_exporter": "python",
   "pygments_lexer": "ipython3",
   "version": "3.10.11"
  }
 },
 "nbformat": 4,
 "nbformat_minor": 5
}
