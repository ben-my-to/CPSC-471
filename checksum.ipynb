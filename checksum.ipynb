{
 "cells": [
  {
   "cell_type": "code",
   "execution_count": 1,
   "id": "c820faa7",
   "metadata": {},
   "outputs": [
    {
     "data": {
      "text/plain": [
       "0"
      ]
     },
     "execution_count": 1,
     "metadata": {},
     "output_type": "execute_result"
    }
   ],
   "source": [
    "from typing import Generator"
   ]
  },
  {
   "cell_type": "code",
   "execution_count": 3,
   "id": "016f8dab",
   "metadata": {},
   "outputs": [],
   "source": [
    "class BinStr:\n",
    "    def __init__(self, v = \"\", *, lpad=0, rpad=0):\n",
    "        if isinstance(v, str):\n",
    "            assert all(i in {\"\", \"0\", \"1\"} for i in v)\n",
    "            self.v = \"\".ljust(lpad, \"0\") + v + \"\".rjust(rpad, \"0\")\n",
    "        elif isinstance(v, Generator):\n",
    "            self.v = \"\".join(map(str, v))\n",
    "\n",
    "    def __repr__(self):\n",
    "        return self.v\n",
    "\n",
    "    def __len__(self):\n",
    "        return len(self.v)\n",
    "\n",
    "    def __iter__(self):\n",
    "        yield from map(int, self.v)\n",
    "\n",
    "    def __getitem__(self, x):\n",
    "        return BinStr(self.v[x])\n",
    "\n",
    "    def __reversed__(self):\n",
    "        return BinStr(self.v[::-1])\n",
    "\n",
    "    def __invert__(self):\n",
    "        return BinStr(1 - a for a in self)\n",
    "\n",
    "    def __or__(self, other):\n",
    "        return BinStr(self.v + other.v)\n",
    "\n",
    "    def __lshift__(self, other):\n",
    "        assert other <= len(self)\n",
    "\n",
    "        temp, self.v = self[:other], repr(self[other:])\n",
    "        return temp\n",
    "\n",
    "    def __int__(self):\n",
    "        return sum(int(repr(self[i])) * 2 ** (len(self) - i - 1) for i in range(len(self)))\n",
    "\n",
    "    def __add__(self, other):\n",
    "        assert len(self) == len(other)\n",
    "\n",
    "        carry = 0\n",
    "        z = [None] * len(self)\n",
    "\n",
    "        gen = (i + j + carry for i, j in zip(*map(reversed, [self, other])))\n",
    "\n",
    "        for i, w in enumerate(gen, start=1):\n",
    "            carry, z[-i] = divmod(w, 2)\n",
    "\n",
    "        if carry:\n",
    "            z.insert(0, 1)\n",
    "\n",
    "        return BinStr(_ for _ in z)\n",
    "\n",
    "    def __xor__(self, other):\n",
    "        return BinStr(abs(a - b) for a, b in zip(self, other))\n",
    "\n",
    "    def __mod__(self, other):\n",
    "        \"\"\"\n",
    "        101 11010100\n",
    "            101\n",
    "             111 \n",
    "             101\n",
    "              100\n",
    "              101\n",
    "                110\n",
    "                101\n",
    "                 110\n",
    "                 101\n",
    "                  11\n",
    "        \"\"\"\n",
    "        z = BinStr()\n",
    "        offset = len(other) - len(z)\n",
    "\n",
    "        while len(self):\n",
    "            z |= self << offset\n",
    "            z ^= other\n",
    "            z.v = z.v.lstrip(\"0\")\n",
    "            offset = len(other) - len(z)\n",
    "\n",
    "        z = BinStr(z.v, lpad=len(other) - len(z) - 1)\n",
    "        return z"
   ]
  },
  {
   "cell_type": "code",
   "execution_count": 19,
   "id": "1b300300",
   "metadata": {},
   "outputs": [],
   "source": [
    "case = \"1010\"\n",
    "\n",
    "def test(actual, expected):\n",
    "    assert repr(actual) == expected\n",
    "\n",
    "test(len(BinStr(case)), \"4\")\n",
    "test([_ for _ in BinStr(case)], \"[1, 0, 1, 0]\")\n",
    "test(BinStr(case)[2], \"1\")\n",
    "test(reversed(BinStr(\"1101\")), \"1011\")\n",
    "\n",
    "test(~BinStr(case), \"0101\")\n",
    "test(BinStr(case) | BinStr(case), \"10101010\")\n",
    "test(BinStr(case) << 2, \"10\")\n",
    "test(BinStr(\"11010\") + BinStr(\"11100\"), \"110110\")\n",
    "test(BinStr(\"1010\") ^ BinStr(\"0011\"), \"1001\")\n"
   ]
  },
  {
   "cell_type": "code",
   "execution_count": 24,
   "id": "6f09f409",
   "metadata": {},
   "outputs": [],
   "source": [
    "a = BinStr(\"1100010111101000\")\n",
    "b = BinStr(\"0010000000100111\")"
   ]
  },
  {
   "cell_type": "code",
   "execution_count": 25,
   "id": "cd7a1109",
   "metadata": {},
   "outputs": [],
   "source": [
    "c = a + b"
   ]
  },
  {
   "cell_type": "code",
   "execution_count": 26,
   "id": "7c4fa747",
   "metadata": {},
   "outputs": [
    {
     "data": {
      "text/plain": [
       "0001100111110000"
      ]
     },
     "execution_count": 26,
     "metadata": {},
     "output_type": "execute_result"
    }
   ],
   "source": [
    "if len(c) > len(a):\n",
    "    c = c[1:] + BinStr(\"1\", lpad=len(c) - 2)\n",
    "\n",
    "~c"
   ]
  },
  {
   "cell_type": "code",
   "execution_count": 27,
   "id": "e48ecc9e",
   "metadata": {},
   "outputs": [
    {
     "name": "stdout",
     "output_type": "stream",
     "text": [
      "1101011000 4\n",
      "1101 ^ 1010 = 0111\n",
      "011000 1\n",
      "1110 ^ 1010 = 0100\n",
      "11000 1\n",
      "1001 ^ 1010 = 0011\n",
      "1000 2\n",
      "1110 ^ 1010 = 0100\n",
      "00 1\n",
      "1000 ^ 1010 = 0010\n",
      "0 2\n"
     ]
    },
    {
     "ename": "AssertionError",
     "evalue": "",
     "output_type": "error",
     "traceback": [
      "\u001b[0;31m---------------------------------------------------------------------------\u001b[0m",
      "\u001b[0;31mAssertionError\u001b[0m                            Traceback (most recent call last)",
      "Cell \u001b[0;32mIn[27], line 1\u001b[0m\n\u001b[0;32m----> 1\u001b[0m BinStr(\u001b[39m\"\u001b[39;49m\u001b[39m1101011000\u001b[39;49m\u001b[39m\"\u001b[39;49m) \u001b[39m%\u001b[39;49m BinStr(\u001b[39m\"\u001b[39;49m\u001b[39m1010\u001b[39;49m\u001b[39m\"\u001b[39;49m)\n",
      "Cell \u001b[0;32mIn[22], line 77\u001b[0m, in \u001b[0;36mBinStr.__mod__\u001b[0;34m(self, other)\u001b[0m\n\u001b[1;32m     74\u001b[0m offset \u001b[39m=\u001b[39m \u001b[39mlen\u001b[39m(other) \u001b[39m-\u001b[39m \u001b[39mlen\u001b[39m(z)\n\u001b[1;32m     76\u001b[0m \u001b[39mwhile\u001b[39;00m \u001b[39mlen\u001b[39m(\u001b[39mself\u001b[39m):\n\u001b[0;32m---> 77\u001b[0m     z \u001b[39m|\u001b[39m\u001b[39m=\u001b[39m \u001b[39mself\u001b[39;49m \u001b[39m<<\u001b[39;49m offset\n\u001b[1;32m     78\u001b[0m     \u001b[39mprint\u001b[39m(z, \u001b[39m\"\u001b[39m\u001b[39m^\u001b[39m\u001b[39m\"\u001b[39m, other, end\u001b[39m=\u001b[39m\u001b[39m\"\u001b[39m\u001b[39m = \u001b[39m\u001b[39m\"\u001b[39m)\n\u001b[1;32m     79\u001b[0m     z \u001b[39m^\u001b[39m\u001b[39m=\u001b[39m other\n",
      "Cell \u001b[0;32mIn[22], line 32\u001b[0m, in \u001b[0;36mBinStr.__lshift__\u001b[0;34m(self, other)\u001b[0m\n\u001b[1;32m     30\u001b[0m \u001b[39mdef\u001b[39;00m \u001b[39m__lshift__\u001b[39m(\u001b[39mself\u001b[39m, other):\n\u001b[1;32m     31\u001b[0m     \u001b[39mprint\u001b[39m(\u001b[39mself\u001b[39m, other)\n\u001b[0;32m---> 32\u001b[0m     \u001b[39massert\u001b[39;00m other \u001b[39m<\u001b[39m\u001b[39m=\u001b[39m \u001b[39mlen\u001b[39m(\u001b[39mself\u001b[39m)\n\u001b[1;32m     34\u001b[0m     temp, \u001b[39mself\u001b[39m\u001b[39m.\u001b[39mv \u001b[39m=\u001b[39m \u001b[39mself\u001b[39m[:other], \u001b[39mrepr\u001b[39m(\u001b[39mself\u001b[39m[other:])\n\u001b[1;32m     35\u001b[0m     \u001b[39mreturn\u001b[39;00m temp\n",
      "\u001b[0;31mAssertionError\u001b[0m: "
     ]
    }
   ],
   "source": [
    "BinStr(\"1101011000\") % BinStr(\"1010\")"
   ]
  },
  {
   "cell_type": "code",
   "execution_count": null,
   "id": "b5f2d880",
   "metadata": {},
   "outputs": [],
   "source": []
  }
 ],
 "metadata": {
  "kernelspec": {
   "display_name": "Python 3 (ipykernel)",
   "language": "python",
   "name": "python3"
  },
  "language_info": {
   "codemirror_mode": {
    "name": "ipython",
    "version": 3
   },
   "file_extension": ".py",
   "mimetype": "text/x-python",
   "name": "python",
   "nbconvert_exporter": "python",
   "pygments_lexer": "ipython3",
   "version": "3.10.11"
  }
 },
 "nbformat": 4,
 "nbformat_minor": 5
}
