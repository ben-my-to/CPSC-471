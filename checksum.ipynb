{
 "cells": [
  {
   "cell_type": "code",
   "execution_count": 1,
   "id": "c820faa7",
   "metadata": {},
   "outputs": [],
   "source": [
    "class BinStr:\n",
    "    def __init__(self, v: str, lpad=0, rpad=0):\n",
    "        assert all(i in {\"0\", \"1\"} for i in v)\n",
    "        self.v = \"\".ljust(lpad, \"0\") + v + \"\".rjust(rpad, \"0\")\n",
    "\n",
    "    def __repr__(self):\n",
    "        return self.v\n",
    "\n",
    "    def __len__(self):\n",
    "        return len(self.v)\n",
    "\n",
    "    def __iter__(self):\n",
    "        yield from self.v\n",
    "\n",
    "    def __reversed__(self):\n",
    "        return BinStr(self.v[::-1])\n",
    "\n",
    "    def __getitem__(self, x):\n",
    "        return self.v[x]\n",
    "\n",
    "    def __invert__(self):\n",
    "        return BinStr(\"\".join([\"0\" if i == \"1\" else \"1\" for i in self]))\n",
    "\n",
    "    def __int__(self):\n",
    "        return sum(int(self[i]) * 2 ** (len(self) - i - 1) for i in range(len(self)))\n",
    "\n",
    "    def __add__(self, other):\n",
    "        assert len(self) == len(other)\n",
    "\n",
    "        carry = 0\n",
    "        z = [None] * len(self)\n",
    "\n",
    "        gen = (int(i) + int(j) + carry for i, j in zip(*map(reversed, [self, other])))\n",
    "\n",
    "        for i, w in enumerate(gen):\n",
    "            carry, z[i] = divmod(w, 2)\n",
    "\n",
    "        if carry:\n",
    "            z.append(1)\n",
    "\n",
    "        return BinStr(\"\".join(map(str, reversed(z))))"
   ]
  },
  {
   "cell_type": "code",
   "execution_count": 2,
   "id": "5645a2c2",
   "metadata": {},
   "outputs": [],
   "source": [
    "a = BinStr(\"0100100010101000\")\n",
    "b = BinStr(\"1000100000111111\")"
   ]
  },
  {
   "cell_type": "code",
   "execution_count": 3,
   "id": "2f472129",
   "metadata": {},
   "outputs": [
    {
     "data": {
      "text/plain": [
       "1101000011100111"
      ]
     },
     "execution_count": 3,
     "metadata": {},
     "output_type": "execute_result"
    }
   ],
   "source": [
    "c = a + b\n",
    "c"
   ]
  },
  {
   "cell_type": "code",
   "execution_count": 4,
   "id": "7c4fa747",
   "metadata": {},
   "outputs": [
    {
     "data": {
      "text/plain": [
       "0010111100011000"
      ]
     },
     "execution_count": 4,
     "metadata": {},
     "output_type": "execute_result"
    }
   ],
   "source": [
    "if len(c) > len(a):\n",
    "    c = BinStr(c[1:]) + BinStr(\"1\", lpad=len(c[1:]) - 1)\n",
    "\n",
    "~c"
   ]
  }
 ],
 "metadata": {
  "kernelspec": {
   "display_name": "Python 3 (ipykernel)",
   "language": "python",
   "name": "python3"
  },
  "language_info": {
   "codemirror_mode": {
    "name": "ipython",
    "version": 3
   },
   "file_extension": ".py",
   "mimetype": "text/x-python",
   "name": "python",
   "nbconvert_exporter": "python",
   "pygments_lexer": "ipython3",
   "version": "3.10.11"
  }
 },
 "nbformat": 4,
 "nbformat_minor": 5
}
