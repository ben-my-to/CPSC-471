{
 "cells": [
  {
   "cell_type": "code",
   "execution_count": 100,
   "id": "c820faa7",
   "metadata": {},
   "outputs": [],
   "source": [
    "class BinStr:\n",
    "    def __init__(self, v: str = \"\", lpad=0, rpad=0):\n",
    "        assert all(i in {\"\", \"0\", \"1\"} for i in v)\n",
    "        self.v = \"\".ljust(lpad, \"0\") + v + \"\".rjust(rpad, \"0\")\n",
    "\n",
    "    def __repr__(self):\n",
    "        return self.v\n",
    "\n",
    "    def __len__(self):\n",
    "        return len(self.v)\n",
    "\n",
    "    def __iter__(self):\n",
    "        yield from map(int, self.v)\n",
    "\n",
    "    def __getitem__(self, x):\n",
    "        return BinStr(self.v[x])\n",
    "\n",
    "    def __reversed__(self):\n",
    "        return BinStr(self.v[::-1])\n",
    "\n",
    "    def __invert__(self):\n",
    "        return BinStr(\"\".join(str(1 - i) for i in self))\n",
    "\n",
    "    def __or__(self, other):\n",
    "        return BinStr(self.v + other.v)\n",
    "\n",
    "    def __lshift__(self, other):\n",
    "        assert other <= len(self)\n",
    "\n",
    "        temp, self.v = self[:other], repr(self[other:])\n",
    "        return temp\n",
    "\n",
    "    def __int__(self):\n",
    "        return sum(int(repr(self[i])) * 2 ** (len(self) - i - 1) for i in range(len(self)))\n",
    "\n",
    "    def __add__(self, other):\n",
    "        assert len(self) == len(other)\n",
    "\n",
    "        carry = 0\n",
    "        z = [None] * len(self)\n",
    "\n",
    "        gen = (i + j + carry for i, j in zip(*map(reversed, [self, other])))\n",
    "\n",
    "        for i, w in enumerate(gen, start=1):\n",
    "            carry, z[-i] = divmod(w, 2)\n",
    "\n",
    "        if carry:\n",
    "            z.insert(0, 1)\n",
    "\n",
    "        return BinStr(\"\".join(map(str, z)))\n",
    "\n",
    "    def __xor__(self, other):\n",
    "        return BinStr(\"\".join(str(int(i != j)) for i, j in zip(self, other)))\n",
    "\n",
    "    def __mod__(self, other):\n",
    "        \"\"\"\n",
    "        101 11010100\n",
    "            101\n",
    "             111 \n",
    "             101\n",
    "              100\n",
    "              101\n",
    "                110\n",
    "                101\n",
    "                 110\n",
    "                 101\n",
    "                  11\n",
    "        \"\"\"\n",
    "        z = BinStr()\n",
    "\n",
    "        while len(self):\n",
    "            offset = len(other) - len(z)\n",
    "            z |= self << offset\n",
    "            z ^= other\n",
    "            z.v = z.v.lstrip(\"0\")\n",
    "        \n",
    "        return z"
   ]
  },
  {
   "cell_type": "code",
   "execution_count": 101,
   "id": "1b300300",
   "metadata": {},
   "outputs": [],
   "source": [
    "def test(actual, expected):\n",
    "    assert repr(actual) == expected\n",
    "\n",
    "test(~BinStr(\"10\"), \"01\")\n",
    "test(BinStr(\"11010\") + BinStr(\"11100\"), \"110110\")\n",
    "test(BinStr(\"1010\") ^ BinStr(\"0011\"), \"1001\")\n",
    "\n",
    "test(reversed(BinStr(\"0011\")), \"1100\")"
   ]
  },
  {
   "cell_type": "code",
   "execution_count": 102,
   "id": "6f09f409",
   "metadata": {},
   "outputs": [],
   "source": [
    "a = BinStr(\"1100010111101000\")\n",
    "b = BinStr(\"0010000000100111\")"
   ]
  },
  {
   "cell_type": "code",
   "execution_count": 103,
   "id": "cd7a1109",
   "metadata": {},
   "outputs": [],
   "source": [
    "c = a + b"
   ]
  },
  {
   "cell_type": "code",
   "execution_count": 104,
   "id": "7c4fa747",
   "metadata": {},
   "outputs": [
    {
     "data": {
      "text/plain": [
       "0001100111110000"
      ]
     },
     "execution_count": 104,
     "metadata": {},
     "output_type": "execute_result"
    }
   ],
   "source": [
    "if len(c) > len(a):\n",
    "    c = c[1:] + BinStr(\"1\", lpad=len(c) - 2)\n",
    "\n",
    "~c"
   ]
  },
  {
   "cell_type": "code",
   "execution_count": 105,
   "id": "e48ecc9e",
   "metadata": {},
   "outputs": [
    {
     "data": {
      "text/plain": [
       "11"
      ]
     },
     "execution_count": 105,
     "metadata": {},
     "output_type": "execute_result"
    }
   ],
   "source": [
    "BinStr(\"11010100\") % BinStr(\"101\")"
   ]
  }
 ],
 "metadata": {
  "kernelspec": {
   "display_name": "Python 3 (ipykernel)",
   "language": "python",
   "name": "python3"
  },
  "language_info": {
   "codemirror_mode": {
    "name": "ipython",
    "version": 3
   },
   "file_extension": ".py",
   "mimetype": "text/x-python",
   "name": "python",
   "nbconvert_exporter": "python",
   "pygments_lexer": "ipython3",
   "version": "3.10.11"
  }
 },
 "nbformat": 4,
 "nbformat_minor": 5
}
