{
 "cells": [
  {
   "cell_type": "code",
   "execution_count": 48,
   "id": "c820faa7",
   "metadata": {},
   "outputs": [],
   "source": [
    "def NOT(a):\n",
    "    return ''.join(['0' if i == '1' else '1' for i in a])\n",
    "\n",
    "def StN(x):\n",
    "    \"\"\"Converts binary string to decimal\"\"\"\n",
    "    k = len(x) - 1\n",
    "    return sum(int(x[i])*(2**(k-i)) for i in range(k+1))\n",
    "\n",
    "def bin_add(z):\n",
    "    carry_bit = 0\n",
    "    r = []\n",
    "    \n",
    "    gen = (int(i) + int(j) + carry_bit for i, j in zip(*map(reversed, z)))\n",
    "    for w in gen:\n",
    "        r.append(str(w % 2))\n",
    "        carry_bit = w > 1\n",
    "\n",
    "    if carry_bit: r.append('1')\n",
    "\n",
    "    r = ''.join(reversed(r))\n",
    "    assert sum(map(StN, z)) == StN(r)\n",
    "\n",
    "    return r"
   ]
  },
  {
   "cell_type": "code",
   "execution_count": 49,
   "id": "5645a2c2",
   "metadata": {},
   "outputs": [],
   "source": [
    "a = '1000110101011000'\n",
    "b = '1000111000101100'"
   ]
  },
  {
   "cell_type": "code",
   "execution_count": 50,
   "id": "e42ccddb",
   "metadata": {},
   "outputs": [],
   "source": [
    "# Check same length and only zeros and ones\n",
    "assert len(a) == len(b) and \\\n",
    "    all(all(j in {'0', '1'} for j in i) for i in [a, b])"
   ]
  },
  {
   "cell_type": "code",
   "execution_count": 51,
   "id": "2f472129",
   "metadata": {},
   "outputs": [
    {
     "data": {
      "text/plain": [
       "'1110010001111010'"
      ]
     },
     "execution_count": 51,
     "metadata": {},
     "output_type": "execute_result"
    }
   ],
   "source": [
    "c = bin_add([a, b])\n",
    "\n",
    "if len(c) > len(a):\n",
    "    p, q = c[1:], ('0' * len(c[1:])) + '1'\n",
    "    c = bin_add([p, q])\n",
    "    \n",
    "NOT(c)"
   ]
  }
 ],
 "metadata": {
  "kernelspec": {
   "display_name": "Python 3 (ipykernel)",
   "language": "python",
   "name": "python3"
  },
  "language_info": {
   "codemirror_mode": {
    "name": "ipython",
    "version": 3
   },
   "file_extension": ".py",
   "mimetype": "text/x-python",
   "name": "python",
   "nbconvert_exporter": "python",
   "pygments_lexer": "ipython3",
   "version": "3.10.11"
  }
 },
 "nbformat": 4,
 "nbformat_minor": 5
}
