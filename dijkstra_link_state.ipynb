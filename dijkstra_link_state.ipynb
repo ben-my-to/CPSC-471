{
 "cells": [
  {
   "cell_type": "code",
   "execution_count": 269,
   "id": "abea0822",
   "metadata": {},
   "outputs": [],
   "source": [
    "import graphviz\n",
    "import numpy as np\n",
    "import pandas as pd\n",
    "from collections import OrderedDict\n",
    "from sortedcollections import OrderedSet\n",
    "\n",
    "path = set()"
   ]
  },
  {
   "cell_type": "code",
   "execution_count": 270,
   "id": "a97c5d18",
   "metadata": {},
   "outputs": [],
   "source": [
    "start = 'u'\n",
    "V = 'uvwxyz'\n",
    "edges = {\n",
    "    ('u', 'w'): 2,\n",
    "    ('u', 'v'): 3,\n",
    "    ('u', 'x'): 6,\n",
    "    ('v', 'x'): 3,\n",
    "    ('v', 'w'): 5,\n",
    "    ('x', 'w'): 5,\n",
    "    ('x', 'y'): 9,\n",
    "    ('w', 'z'): 3,\n",
    "    ('w', 'y'): 1,\n",
    "    ('y', 'z'): 6,\n",
    "}\n",
    "\n",
    "# start = 'u'\n",
    "# V = 'uvwxyz'\n",
    "# edges = {\n",
    "#     ('u', 'x'): 5,\n",
    "#     ('u', 'w'): 3,\n",
    "#     ('u', 'v'): 7,\n",
    "#     ('w', 'x'): 4,\n",
    "#     ('w', 'v'): 3,\n",
    "#     ('w', 'y'): 8,\n",
    "#     ('x', 'y'): 7,\n",
    "#     ('x', 'z'): 9,\n",
    "#     ('v', 'y'): 4,\n",
    "#     ('y', 'z'): 2,\n",
    "# }"
   ]
  },
  {
   "cell_type": "code",
   "execution_count": 271,
   "id": "b1ea3b69",
   "metadata": {},
   "outputs": [
    {
     "data": {
      "text/plain": [
       "BiDict([(('u', 'w'), 2),\n",
       "        (('w', 'u'), 2),\n",
       "        (('u', 'v'), 3),\n",
       "        (('v', 'u'), 3),\n",
       "        (('u', 'x'), 6),\n",
       "        (('x', 'u'), 6),\n",
       "        (('v', 'x'), 3),\n",
       "        (('x', 'v'), 3),\n",
       "        (('v', 'w'), 5),\n",
       "        (('w', 'v'), 5),\n",
       "        (('x', 'w'), 5),\n",
       "        (('w', 'x'), 5),\n",
       "        (('x', 'y'), 9),\n",
       "        (('y', 'x'), 9),\n",
       "        (('w', 'z'), 3),\n",
       "        (('z', 'w'), 3),\n",
       "        (('w', 'y'), 1),\n",
       "        (('y', 'w'), 1),\n",
       "        (('y', 'z'), 6),\n",
       "        (('z', 'y'), 6)])"
      ]
     },
     "execution_count": 271,
     "metadata": {},
     "output_type": "execute_result"
    }
   ],
   "source": [
    "class BiDict(OrderedDict):\n",
    "    def __setitem__(self, key: tuple, value):\n",
    "        if key in self:\n",
    "            del self[key]\n",
    "        if value in self:\n",
    "            del self[value]\n",
    "\n",
    "        OrderedDict.__setitem__(self, key, value)\n",
    "        OrderedDict.__setitem__(self, key[::-1], value)\n",
    "        \n",
    "    def __delitem__(self, key):\n",
    "        OrderedDict.__delitem__(self, self[key])\n",
    "        OrderedDict.__delitem__(self, key)\n",
    "\n",
    "E = BiDict({k: v for k, v in edges.items()})\n",
    "E"
   ]
  },
  {
   "cell_type": "code",
   "execution_count": 272,
   "id": "860b544c",
   "metadata": {},
   "outputs": [
    {
     "data": {
      "text/plain": [
       "OrderedDict([('u',\n",
       "              OrderedDict([('v', 3),\n",
       "                           ('w', 2),\n",
       "                           ('x', 6),\n",
       "                           ('y', inf),\n",
       "                           ('z', inf)])),\n",
       "             ('v',\n",
       "              OrderedDict([('u', 3),\n",
       "                           ('w', 5),\n",
       "                           ('x', 3),\n",
       "                           ('y', inf),\n",
       "                           ('z', inf)])),\n",
       "             ('w',\n",
       "              OrderedDict([('u', 2), ('v', 5), ('x', 5), ('y', 1), ('z', 3)])),\n",
       "             ('x',\n",
       "              OrderedDict([('u', 6),\n",
       "                           ('v', 3),\n",
       "                           ('w', 5),\n",
       "                           ('y', 9),\n",
       "                           ('z', inf)])),\n",
       "             ('y',\n",
       "              OrderedDict([('u', inf),\n",
       "                           ('v', inf),\n",
       "                           ('w', 1),\n",
       "                           ('x', 9),\n",
       "                           ('z', 6)])),\n",
       "             ('z',\n",
       "              OrderedDict([('u', inf),\n",
       "                           ('v', inf),\n",
       "                           ('w', 3),\n",
       "                           ('x', inf),\n",
       "                           ('y', 6)]))])"
      ]
     },
     "execution_count": 272,
     "metadata": {},
     "output_type": "execute_result"
    }
   ],
   "source": [
    "lookup = OrderedDict({u: OrderedDict({v: E.get((u, v), np.inf) for v in sorted(set(V) - set(u))}) for u in sorted(V)})\n",
    "lookup"
   ]
  },
  {
   "cell_type": "code",
   "execution_count": 273,
   "id": "f680aaac",
   "metadata": {},
   "outputs": [],
   "source": [
    "class Node:\n",
    "    def __init__(self, value, dist=0, parent=None):\n",
    "        self.value = value\n",
    "        self.dist = dist      # the estimate distance (cost) value from the initiator\n",
    "        self.parent = parent  # predecessor node in the spanning tree rooted at the initiator\n",
    "\n",
    "    def __repr__(self):\n",
    "        return self.value\n",
    "\n",
    "    def __str__(self):\n",
    "        return str(np.inf) if self.dist == np.inf else f\"{self.dist},{self.parent.value}\"\n",
    "\n",
    "    def __getitem__(self, q):\n",
    "        \"\"\"Returns the dist p to q if connected; otherwise, infinity\"\"\"\n",
    "        return lookup[self.value][q.value]"
   ]
  },
  {
   "cell_type": "code",
   "execution_count": 274,
   "id": "3cf18aaf",
   "metadata": {},
   "outputs": [
    {
     "name": "stdout",
     "output_type": "stream",
     "text": [
      "Graph: OrderedSet([v, w, x, y, z])\n",
      "Visited: OrderedSet([u])\n",
      "Table: OrderedDict([(\"N'\", ['u'])])\n"
     ]
    }
   ],
   "source": [
    "graph = OrderedSet(map(lambda u: Node(value=u, parent=Node(value=start)), sorted(set(V) - set(start))))\n",
    "visited = OrderedSet({Node(value=start)})  # set of nodes whose least-cost-path is definitively known\n",
    "table = OrderedDict([(\"N'\", [start])])\n",
    "\n",
    "print(f\"Graph: {graph}\", f\"Visited: {visited}\", f\"Table: {table}\", sep='\\n')"
   ]
  },
  {
   "cell_type": "code",
   "execution_count": 275,
   "id": "aaaf015f",
   "metadata": {},
   "outputs": [
    {
     "data": {
      "text/plain": [
       "OrderedDict([(\"N'\", ['u']),\n",
       "             ('D(v),p(v)', ['3,u']),\n",
       "             ('D(w),p(w)', ['2,u']),\n",
       "             ('D(x),p(x)', ['6,u']),\n",
       "             ('D(y),p(y)', ['inf']),\n",
       "             ('D(z),p(z)', ['inf'])])"
      ]
     },
     "execution_count": 275,
     "metadata": {},
     "output_type": "execute_result"
    }
   ],
   "source": [
    "for u in graph:\n",
    "    u.dist = lookup[start][u.value]\n",
    "    table[f\"D({u.value}),p({u.value})\"] = [str(u)]\n",
    "\n",
    "table"
   ]
  },
  {
   "cell_type": "code",
   "execution_count": 276,
   "id": "902806f3",
   "metadata": {},
   "outputs": [
    {
     "name": "stdout",
     "output_type": "stream",
     "text": [
      "[1, 0] -- D(v) = min(D(v), D(w) + C(w, v)) = min(3, 2 + 5) = min(3, 7) = 3\n",
      "[1, 2] -- D(x) = min(D(x), D(w) + C(w, x)) = min(6, 2 + 5) = min(6, 7) = 6\n",
      "[1, 3] -- D(y) = min(D(y), D(w) + C(w, y)) = min(inf, 2 + 1) = min(inf, 3) = 3\n",
      "[1, 4] -- D(z) = min(D(z), D(w) + C(w, z)) = min(inf, 2 + 3) = min(inf, 5) = 5\n",
      "[2, 2] -- D(x) = min(D(x), D(v) + C(v, x)) = min(6, 3 + 3) = min(6, 6) = 6\n",
      "[2, 3] -- D(y) = min(D(y), D(v) + C(v, y)) = min(3, 3 + inf) = min(3, inf) = 3\n",
      "[2, 4] -- D(z) = min(D(z), D(v) + C(v, z)) = min(5, 3 + inf) = min(5, inf) = 5\n",
      "[3, 2] -- D(x) = min(D(x), D(y) + C(y, x)) = min(6, 3 + 9) = min(6, 12) = 6\n",
      "[3, 4] -- D(z) = min(D(z), D(y) + C(y, z)) = min(5, 3 + 6) = min(5, 9) = 5\n",
      "[4, 2] -- D(x) = min(D(x), D(z) + C(z, x)) = min(6, 5 + inf) = min(6, inf) = 6\n"
     ]
    },
    {
     "data": {
      "text/plain": [
       "OrderedDict([(\"N'\", ['u', 'uw', 'uwv', 'uwvy', 'uwvyz', 'uwvyzx']),\n",
       "             ('D(v),p(v)', ['3,u', '3,u', '---', '---', '---', '---']),\n",
       "             ('D(w),p(w)', ['2,u', '---', '---', '---', '---', '---']),\n",
       "             ('D(x),p(x)', ['6,u', '6,u', '6,u', '6,u', '6,u', '---']),\n",
       "             ('D(y),p(y)', ['inf', '3,w', '3,w', '---', '---', '---']),\n",
       "             ('D(z),p(z)', ['inf', '5,w', '5,w', '5,w', '---', '---'])])"
      ]
     },
     "execution_count": 276,
     "metadata": {},
     "output_type": "execute_result"
    }
   ],
   "source": [
    "for row in range(1, len(V)):\n",
    "    # NOTE: Python's min() function selects the first occurrence if values are equal; meaning, the node's `q` parent won't change\n",
    "    p = min(graph-visited, key=lambda u: u.dist)\n",
    "\n",
    "    visited.add(p)\n",
    "    path.add((p.parent.value, p.value))  # NOTE: used for graphviz\n",
    "    \n",
    "    table[\"N'\"].append(''.join(map(repr, visited)))\n",
    "\n",
    "    for col, q in enumerate(graph):\n",
    "        header = f\"D({q.value}),p({q.value})\"\n",
    "\n",
    "        if q in visited:\n",
    "            table[header].append(\"---\")\n",
    "            continue\n",
    "\n",
    "        print(f\"[{row}, {col}] -- D({q.value}) = min(D({q.value}), D({p.value}) + C({p.value}, {q.value})) =\",\n",
    "              f\"min({q.dist}, {p.dist} + {p[q]}) =\",\n",
    "              f\"min({q.dist}, {p.dist + p[q]}) =\",\n",
    "              min(q.dist, p.dist + p[q]))\n",
    "\n",
    "        if p.dist + p[q] < q.dist:\n",
    "            q.dist = p.dist + p[q]\n",
    "            q.parent = p\n",
    "\n",
    "        table[header].append(str(q))\n",
    "\n",
    "table"
   ]
  },
  {
   "cell_type": "code",
   "execution_count": 277,
   "id": "6d0af319",
   "metadata": {},
   "outputs": [
    {
     "name": "stdout",
     "output_type": "stream",
     "text": [
      "╭────┬────────┬─────────────┬─────────────┬─────────────┬─────────────┬─────────────╮\n",
      "│    │ N'     │ D(v),p(v)   │ D(w),p(w)   │ D(x),p(x)   │ D(y),p(y)   │ D(z),p(z)   │\n",
      "├────┼────────┼─────────────┼─────────────┼─────────────┼─────────────┼─────────────┤\n",
      "│  0 │ u      │ 3,u         │ 2,u         │ 6,u         │ inf         │ inf         │\n",
      "├────┼────────┼─────────────┼─────────────┼─────────────┼─────────────┼─────────────┤\n",
      "│  1 │ uw     │ 3,u         │ ---         │ 6,u         │ 3,w         │ 5,w         │\n",
      "├────┼────────┼─────────────┼─────────────┼─────────────┼─────────────┼─────────────┤\n",
      "│  2 │ uwv    │ ---         │ ---         │ 6,u         │ 3,w         │ 5,w         │\n",
      "├────┼────────┼─────────────┼─────────────┼─────────────┼─────────────┼─────────────┤\n",
      "│  3 │ uwvy   │ ---         │ ---         │ 6,u         │ ---         │ 5,w         │\n",
      "├────┼────────┼─────────────┼─────────────┼─────────────┼─────────────┼─────────────┤\n",
      "│  4 │ uwvyz  │ ---         │ ---         │ 6,u         │ ---         │ ---         │\n",
      "├────┼────────┼─────────────┼─────────────┼─────────────┼─────────────┼─────────────┤\n",
      "│  5 │ uwvyzx │ ---         │ ---         │ ---         │ ---         │ ---         │\n",
      "╰────┴────────┴─────────────┴─────────────┴─────────────┴─────────────┴─────────────╯\n"
     ]
    }
   ],
   "source": [
    "print(pd.DataFrame(table).to_markdown(tablefmt=\"rounded_grid\"))"
   ]
  },
  {
   "cell_type": "code",
   "execution_count": 278,
   "id": "9af8c5c8",
   "metadata": {},
   "outputs": [
    {
     "data": {
      "image/svg+xml": [
       "<?xml version=\"1.0\" encoding=\"UTF-8\" standalone=\"no\"?>\n",
       "<!DOCTYPE svg PUBLIC \"-//W3C//DTD SVG 1.1//EN\"\n",
       " \"http://www.w3.org/Graphics/SVG/1.1/DTD/svg11.dtd\">\n",
       "<!-- Generated by graphviz version 8.0.1 (20230327.1645)\n",
       " -->\n",
       "<!-- Title: Dijkstra&#39;s Link State Algorithm Pages: 1 -->\n",
       "<svg width=\"439pt\" height=\"123pt\"\n",
       " viewBox=\"0.00 0.00 439.00 123.00\" xmlns=\"http://www.w3.org/2000/svg\" xmlns:xlink=\"http://www.w3.org/1999/xlink\">\n",
       "<g id=\"graph0\" class=\"graph\" transform=\"scale(1 1) rotate(0) translate(4 119)\">\n",
       "<title>Dijkstra&#39;s Link State Algorithm</title>\n",
       "<polygon fill=\"white\" stroke=\"none\" points=\"-4,4 -4,-119 435,-119 435,4 -4,4\"/>\n",
       "<!-- u -->\n",
       "<g id=\"node1\" class=\"node\">\n",
       "<title>u</title>\n",
       "<ellipse fill=\"none\" stroke=\"black\" cx=\"18\" cy=\"-68\" rx=\"18\" ry=\"18\"/>\n",
       "<text text-anchor=\"middle\" x=\"18\" y=\"-64.3\" font-family=\"Times,serif\" font-size=\"14.00\">u</text>\n",
       "</g>\n",
       "<!-- v -->\n",
       "<g id=\"node2\" class=\"node\">\n",
       "<title>v</title>\n",
       "<ellipse fill=\"none\" stroke=\"black\" cx=\"97\" cy=\"-68\" rx=\"18\" ry=\"18\"/>\n",
       "<text text-anchor=\"middle\" x=\"97\" y=\"-64.3\" font-family=\"Times,serif\" font-size=\"14.00\">v</text>\n",
       "</g>\n",
       "<!-- u&#45;&#45;v -->\n",
       "<g id=\"edge1\" class=\"edge\">\n",
       "<title>u&#45;&#45;v</title>\n",
       "<path fill=\"none\" stroke=\"Red\" d=\"M36.47,-68C45.73,-68 57.32,-68 67.81,-68\"/>\n",
       "<polygon fill=\"Red\" stroke=\"Red\" points=\"67.6,-71.5 77.6,-68 67.6,-64.5 67.6,-71.5\"/>\n",
       "<text text-anchor=\"middle\" x=\"57.5\" y=\"-71.8\" font-family=\"Times,serif\" font-size=\"14.00\">3</text>\n",
       "</g>\n",
       "<!-- w -->\n",
       "<g id=\"node3\" class=\"node\">\n",
       "<title>w</title>\n",
       "<ellipse fill=\"none\" stroke=\"black\" cx=\"255\" cy=\"-76\" rx=\"18\" ry=\"18\"/>\n",
       "<text text-anchor=\"middle\" x=\"255\" y=\"-72.3\" font-family=\"Times,serif\" font-size=\"14.00\">w</text>\n",
       "</g>\n",
       "<!-- u&#45;&#45;w -->\n",
       "<g id=\"edge2\" class=\"edge\">\n",
       "<title>u&#45;&#45;w</title>\n",
       "<path fill=\"none\" stroke=\"Red\" d=\"M33.59,-77.25C45.32,-84.01 62.52,-92.43 79,-95 140.55,-104.61 158.27,-101.89 219,-88 221.84,-87.35 224.77,-86.56 227.67,-85.69\"/>\n",
       "<polygon fill=\"Red\" stroke=\"Red\" points=\"228.42,-88.79 236.83,-82.34 226.23,-82.14 228.42,-88.79\"/>\n",
       "<text text-anchor=\"middle\" x=\"136.5\" y=\"-103.8\" font-family=\"Times,serif\" font-size=\"14.00\">2</text>\n",
       "</g>\n",
       "<!-- x -->\n",
       "<g id=\"node4\" class=\"node\">\n",
       "<title>x</title>\n",
       "<ellipse fill=\"none\" stroke=\"black\" cx=\"176\" cy=\"-18\" rx=\"18\" ry=\"18\"/>\n",
       "<text text-anchor=\"middle\" x=\"176\" y=\"-14.3\" font-family=\"Times,serif\" font-size=\"14.00\">x</text>\n",
       "</g>\n",
       "<!-- u&#45;&#45;x -->\n",
       "<g id=\"edge5\" class=\"edge\">\n",
       "<title>u&#45;&#45;x</title>\n",
       "<path fill=\"none\" stroke=\"Red\" d=\"M31.66,-56.09C43.08,-46.15 60.82,-32.57 79,-26 100.85,-18.1 127.27,-16.42 146.85,-16.53\"/>\n",
       "<polygon fill=\"Red\" stroke=\"Red\" points=\"146.7,-20.05 156.78,-16.79 146.87,-13.05 146.7,-20.05\"/>\n",
       "<text text-anchor=\"middle\" x=\"97\" y=\"-29.8\" font-family=\"Times,serif\" font-size=\"14.00\">6</text>\n",
       "</g>\n",
       "<!-- v&#45;&#45;w -->\n",
       "<g id=\"edge7\" class=\"edge\">\n",
       "<title>v&#45;&#45;w</title>\n",
       "<path fill=\"none\" stroke=\"black\" d=\"M115.29,-68.89C145.28,-70.42 206.59,-73.57 236.63,-75.11\"/>\n",
       "<text text-anchor=\"middle\" x=\"176\" y=\"-75.8\" font-family=\"Times,serif\" font-size=\"14.00\">5</text>\n",
       "</g>\n",
       "<!-- v&#45;&#45;x -->\n",
       "<g id=\"edge6\" class=\"edge\">\n",
       "<title>v&#45;&#45;x</title>\n",
       "<path fill=\"none\" stroke=\"black\" d=\"M112.48,-58.6C126.16,-49.71 146.58,-36.46 160.32,-27.53\"/>\n",
       "<text text-anchor=\"middle\" x=\"136.5\" y=\"-48.8\" font-family=\"Times,serif\" font-size=\"14.00\">3</text>\n",
       "</g>\n",
       "<!-- y -->\n",
       "<g id=\"node5\" class=\"node\">\n",
       "<title>y</title>\n",
       "<ellipse fill=\"none\" stroke=\"black\" cx=\"334\" cy=\"-22\" rx=\"18\" ry=\"18\"/>\n",
       "<text text-anchor=\"middle\" x=\"334\" y=\"-18.3\" font-family=\"Times,serif\" font-size=\"14.00\">y</text>\n",
       "</g>\n",
       "<!-- w&#45;&#45;y -->\n",
       "<g id=\"edge4\" class=\"edge\">\n",
       "<title>w&#45;&#45;y</title>\n",
       "<path fill=\"none\" stroke=\"Red\" d=\"M269.24,-64.2C275.63,-58.73 283.52,-52.28 291,-47 296.51,-43.11 302.64,-39.23 308.48,-35.73\"/>\n",
       "<polygon fill=\"Red\" stroke=\"Red\" points=\"310,-38.31 316.87,-30.25 306.47,-32.26 310,-38.31\"/>\n",
       "<text text-anchor=\"middle\" x=\"294.5\" y=\"-50.8\" font-family=\"Times,serif\" font-size=\"14.00\">1</text>\n",
       "</g>\n",
       "<!-- z -->\n",
       "<g id=\"node6\" class=\"node\">\n",
       "<title>z</title>\n",
       "<ellipse fill=\"none\" stroke=\"black\" cx=\"413\" cy=\"-49\" rx=\"18\" ry=\"18\"/>\n",
       "<text text-anchor=\"middle\" x=\"413\" y=\"-45.3\" font-family=\"Times,serif\" font-size=\"14.00\">z</text>\n",
       "</g>\n",
       "<!-- w&#45;&#45;z -->\n",
       "<g id=\"edge3\" class=\"edge\">\n",
       "<title>w&#45;&#45;z</title>\n",
       "<path fill=\"none\" stroke=\"Red\" d=\"M273.26,-73.33C296.77,-69.66 340.14,-62.73 377,-56 379.38,-55.57 381.84,-55.1 384.31,-54.63\"/>\n",
       "<polygon fill=\"Red\" stroke=\"Red\" points=\"384.8,-57.9 393.93,-52.53 383.44,-51.03 384.8,-57.9\"/>\n",
       "<text text-anchor=\"middle\" x=\"334\" y=\"-69.8\" font-family=\"Times,serif\" font-size=\"14.00\">3</text>\n",
       "</g>\n",
       "<!-- x&#45;&#45;w -->\n",
       "<g id=\"edge8\" class=\"edge\">\n",
       "<title>x&#45;&#45;w</title>\n",
       "<path fill=\"none\" stroke=\"black\" d=\"M191.61,-27.63C199.79,-33.13 210.1,-40.26 219,-47 226.3,-52.53 234.17,-59 240.59,-64.42\"/>\n",
       "<text text-anchor=\"middle\" x=\"215.5\" y=\"-50.8\" font-family=\"Times,serif\" font-size=\"14.00\">5</text>\n",
       "</g>\n",
       "<!-- x&#45;&#45;y -->\n",
       "<g id=\"edge9\" class=\"edge\">\n",
       "<title>x&#45;&#45;y</title>\n",
       "<path fill=\"none\" stroke=\"black\" d=\"M194.29,-18.44C224.28,-19.21 285.59,-20.78 315.63,-21.55\"/>\n",
       "<text text-anchor=\"middle\" x=\"255\" y=\"-24.8\" font-family=\"Times,serif\" font-size=\"14.00\">9</text>\n",
       "</g>\n",
       "<!-- y&#45;&#45;z -->\n",
       "<g id=\"edge10\" class=\"edge\">\n",
       "<title>y&#45;&#45;z</title>\n",
       "<path fill=\"none\" stroke=\"black\" d=\"M351.33,-27.73C364.4,-32.31 382.63,-38.7 395.69,-43.28\"/>\n",
       "<text text-anchor=\"middle\" x=\"373.5\" y=\"-40.8\" font-family=\"Times,serif\" font-size=\"14.00\">6</text>\n",
       "</g>\n",
       "</g>\n",
       "</svg>\n"
      ],
      "text/plain": [
       "<graphviz.graphs.Graph at 0x114070490>"
      ]
     },
     "execution_count": 278,
     "metadata": {},
     "output_type": "execute_result"
    }
   ],
   "source": [
    "sptree = graphviz.Graph(\"Dijkstra's Link State Algorithm\",\n",
    "                        filename='spanning_tree',\n",
    "                        graph_attr={'rankdir': 'LR'},\n",
    "                        node_attr={'shape': 'circle'})\n",
    "\n",
    "[sptree.node(v) for v in V]\n",
    "[sptree.edge(u, v, dir='forward', label=str(E[(u, v)]), color=\"Red\") for (u, v) in path]\n",
    "[sptree.edge(u, v, label=str(E[(u, v)])) for (u, v) in edges if {u, v} not in map(set, path)]\n",
    "\n",
    "sptree"
   ]
  }
 ],
 "metadata": {
  "kernelspec": {
   "display_name": "Python 3 (ipykernel)",
   "language": "python",
   "name": "python3"
  },
  "language_info": {
   "codemirror_mode": {
    "name": "ipython",
    "version": 3
   },
   "file_extension": ".py",
   "mimetype": "text/x-python",
   "name": "python",
   "nbconvert_exporter": "python",
   "pygments_lexer": "ipython3",
   "version": "3.10.10"
  },
  "vscode": {
   "interpreter": {
    "hash": "b0fa6594d8f4cbf19f97940f81e996739fb7646882a419484c72d19e05852a7e"
   }
  }
 },
 "nbformat": 4,
 "nbformat_minor": 5
}
