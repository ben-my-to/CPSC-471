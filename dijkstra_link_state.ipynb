{
 "cells": [
  {
   "cell_type": "code",
   "execution_count": 1,
   "id": "bc46c9de",
   "metadata": {},
   "outputs": [],
   "source": [
    "# !pip install graphviz sortedcollections"
   ]
  },
  {
   "cell_type": "code",
   "execution_count": 2,
   "id": "abea0822",
   "metadata": {},
   "outputs": [],
   "source": [
    "import graphviz\n",
    "import numpy as np\n",
    "import pandas as pd\n",
    "from collections import OrderedDict\n",
    "from sortedcollections import OrderedSet"
   ]
  },
  {
   "cell_type": "code",
   "execution_count": 3,
   "id": "a97c5d18",
   "metadata": {},
   "outputs": [],
   "source": [
    "u = 'w'\n",
    "V = OrderedSet(sorted('wxyz'))\n",
    "edges = {\n",
    "    ('w', 'x'): 1,\n",
    "    ('w', 'y'): 2,\n",
    "    ('x', 'z'): 2,\n",
    "    ('y', 'z'): 1,\n",
    "}\n",
    "\n",
    "# u = 'a'\n",
    "# V = OrderedSet(sorted('abcde'))\n",
    "# edges = {\n",
    "#     ('a', 'b'): 2,\n",
    "#     ('a', 'c'): 1,\n",
    "#     ('b', 'e'): 1,\n",
    "#     ('b', 'd'): 4,\n",
    "#     ('d', 'c'): 8,\n",
    "#     ('c', 'e'): 6,\n",
    "#     ('d', 'e'): 1\n",
    "# }\n",
    "\n",
    "# u = 'u'\n",
    "# V = OrderedSet(sorted('uvwxyz'))\n",
    "# edges = {\n",
    "#     ('u', 'w'): 5,\n",
    "#     ('u', 'v'): 2,\n",
    "#     ('u', 'x'): 1,\n",
    "#     ('v', 'x'): 2,\n",
    "#     ('v', 'w'): 3,\n",
    "#     ('x', 'w'): 3,\n",
    "#     ('x', 'y'): 1,\n",
    "#     ('w', 'z'): 5,\n",
    "#     ('w', 'y'): 1,\n",
    "#     ('y', 'z'): 2,\n",
    "# }"
   ]
  },
  {
   "cell_type": "code",
   "execution_count": 4,
   "id": "b1ea3b69",
   "metadata": {},
   "outputs": [],
   "source": [
    "# Modified from \\ref{https://stackoverflow.com/questions/1456373/two-way-reverse-map}\n",
    "class BiDict(OrderedDict):\n",
    "    def __setitem__(self, key: tuple, value):\n",
    "        if key in self:\n",
    "            del self[key]\n",
    "\n",
    "        OrderedDict.__setitem__(self, key, value)\n",
    "        OrderedDict.__setitem__(self, key[::-1], value)\n",
    "        \n",
    "    def __delitem__(self, key):\n",
    "        OrderedDict.__delitem__(self, key)\n",
    "        OrderedDict.__delitem__(self, key[::-1])\n",
    "\n",
    "E = BiDict(**edges)"
   ]
  },
  {
   "cell_type": "code",
   "execution_count": 13,
   "id": "860b544c",
   "metadata": {},
   "outputs": [
    {
     "data": {
      "text/plain": [
       "OrderedDict([('w', OrderedDict([('w', 0), ('x', 1), ('y', 2), ('z', inf)])),\n",
       "             ('x', OrderedDict([('w', 1), ('x', 0), ('y', inf), ('z', 2)])),\n",
       "             ('y', OrderedDict([('w', 2), ('x', inf), ('y', 0), ('z', 1)])),\n",
       "             ('z', OrderedDict([('w', inf), ('x', 2), ('y', 1), ('z', 0)]))])"
      ]
     },
     "execution_count": 13,
     "metadata": {},
     "output_type": "execute_result"
    }
   ],
   "source": [
    "# Lookup table containing the dist/cost from every node to every other node\n",
    "# Zero if same node and infinity if nodes aren't neighbors\n",
    "lookup = OrderedDict({\n",
    "    u: OrderedDict({\n",
    "        v: E.get((u, v), 0 if u == v else np.inf)\n",
    "        for v in V})\n",
    "    for u in V\n",
    "})"
   ]
  },
  {
   "cell_type": "code",
   "execution_count": 6,
   "id": "f680aaac",
   "metadata": {},
   "outputs": [],
   "source": [
    "class Node:\n",
    "    def __init__(self, value, dist=0, prev=None):\n",
    "        self.value = value\n",
    "        self.dist = dist\n",
    "        self.prev = prev\n",
    "\n",
    "    def __repr__(self):\n",
    "        return self.value\n",
    "\n",
    "    def __str__(self):\n",
    "        return f\"{self.dist},{self.prev!r}\" if self.dist != np.inf else str(np.inf)\n",
    "\n",
    "    def __getitem__(self, q):\n",
    "        \"\"\"Returns the dist from p to q if neighbors; otherwise, infinity\"\"\"\n",
    "        return lookup[self.value][q.value]"
   ]
  },
  {
   "cell_type": "code",
   "execution_count": 7,
   "id": "3cf18aaf",
   "metadata": {},
   "outputs": [],
   "source": [
    "init = Node(value=u)\n",
    "init.prev = init\n",
    "\n",
    "graph = OrderedSet(map(lambda v: Node(value=v, dist=lookup[u][v], prev=init), V - set(u)))\n",
    "visited = OrderedSet({init})\n",
    "\n",
    "path = set()"
   ]
  },
  {
   "cell_type": "code",
   "execution_count": 8,
   "id": "449e5345",
   "metadata": {},
   "outputs": [],
   "source": [
    "headers = [(f\"D({v!r}),p({v!r})\", [str(v)]) for v in visited | graph]\n",
    "table = OrderedDict([(\"N'\", [u]), *headers])"
   ]
  },
  {
   "cell_type": "code",
   "execution_count": 9,
   "id": "902806f3",
   "metadata": {},
   "outputs": [
    {
     "name": "stdout",
     "output_type": "stream",
     "text": [
      "D(y) = min(D(y), D(x) + C(x, y)) = min(2, 1 + inf) = min(2, inf) = 2\n",
      "D(z) = min(D(z), D(x) + C(x, z)) = min(inf, 1 + 2) = min(inf, 3) = 3\n",
      "D(z) = min(D(z), D(y) + C(y, z)) = min(3, 2 + 1) = min(3, 3) = 3\n"
     ]
    }
   ],
   "source": [
    "for _ in range(1, len(V)):\n",
    "    # NOTE: Python's min() function always selects the first occurrence if values are equal\n",
    "    # So, if the algorithm encounters two paths from p to q with the same dist/cost,\n",
    "    # q's prev won't change; thus, the route/path from p to q won't change either\n",
    "    p = min(graph-visited, key=lambda u: u.dist)\n",
    "\n",
    "    visited.add(p)\n",
    "    path.add((p.prev.value, p.value))\n",
    "    \n",
    "    table[\"N'\"].append(''.join(map(repr, visited)))\n",
    "\n",
    "    for q in graph-visited:\n",
    "        print(f\"D({q!r}) = min(D({q!r}), D({p!r}) + C({p!r}, {q!r})) =\",\n",
    "              f\"min({q.dist}, {p.dist} + {p[q]}) =\",\n",
    "              f\"min({q.dist}, {p.dist + p[q]}) =\",\n",
    "              min(q.dist, p.dist + p[q]))\n",
    "\n",
    "        # NOTE: if the algorithm finds another path from p to q with the same dist/cost,\n",
    "        # it will change paths/routes (aka, change parents)\n",
    "        if p.dist + p[q] <= q.dist:\n",
    "            q.dist = p.dist + p[q]\n",
    "            q.prev = p\n",
    "\n",
    "        table[f\"D({q!r}),p({q!r})\"].append(str(q))\n",
    "\n",
    "for entry in table.values():\n",
    "    entry.extend(['---'] * (len(V) - len(entry)))"
   ]
  },
  {
   "cell_type": "code",
   "execution_count": 10,
   "id": "11ffd632",
   "metadata": {},
   "outputs": [],
   "source": [
    "def check(graph):\n",
    "    G = {n: set(v for u, v in graph if u == n) for n in V}\n",
    "\n",
    "    def dfs(source):\n",
    "        stack, visited = list(source), set()\n",
    "        while stack:\n",
    "            visited.add(n := stack.pop())\n",
    "            stack.extend(G[n])\n",
    "            if any(n in visited for n in stack):\n",
    "                raise Exception('cycle found')\n",
    "        if visited != V:\n",
    "            raise Exception(f'nodes {V - visited} were not connected')\n",
    "\n",
    "    try:\n",
    "        dfs(u)\n",
    "    except Exception as e:\n",
    "        print(e)\n",
    "\n",
    "check(path)"
   ]
  },
  {
   "cell_type": "code",
   "execution_count": 11,
   "id": "6d0af319",
   "metadata": {},
   "outputs": [
    {
     "name": "stdout",
     "output_type": "stream",
     "text": [
      "╭────┬──────┬─────────────┬─────────────┬─────────────┬─────────────╮\n",
      "│    │ N'   │ D(w),p(w)   │ D(x),p(x)   │ D(y),p(y)   │ D(z),p(z)   │\n",
      "├────┼──────┼─────────────┼─────────────┼─────────────┼─────────────┤\n",
      "│  0 │ w    │ 0,w         │ 1,w         │ 2,w         │ inf         │\n",
      "├────┼──────┼─────────────┼─────────────┼─────────────┼─────────────┤\n",
      "│  1 │ wx   │ ---         │ ---         │ 2,w         │ 3,x         │\n",
      "├────┼──────┼─────────────┼─────────────┼─────────────┼─────────────┤\n",
      "│  2 │ wxy  │ ---         │ ---         │ ---         │ 3,y         │\n",
      "├────┼──────┼─────────────┼─────────────┼─────────────┼─────────────┤\n",
      "│  3 │ wxyz │ ---         │ ---         │ ---         │ ---         │\n",
      "╰────┴──────┴─────────────┴─────────────┴─────────────┴─────────────╯\n"
     ]
    }
   ],
   "source": [
    "print(pd.DataFrame(table).to_markdown(tablefmt=\"rounded_grid\"))"
   ]
  },
  {
   "cell_type": "code",
   "execution_count": 12,
   "id": "9af8c5c8",
   "metadata": {},
   "outputs": [
    {
     "data": {
      "image/svg+xml": [
       "<?xml version=\"1.0\" encoding=\"UTF-8\" standalone=\"no\"?>\n",
       "<!DOCTYPE svg PUBLIC \"-//W3C//DTD SVG 1.1//EN\"\n",
       " \"http://www.w3.org/Graphics/SVG/1.1/DTD/svg11.dtd\">\n",
       "<!-- Generated by graphviz version 8.0.2 (20230410.1723)\n",
       " -->\n",
       "<!-- Title: Dijkstra&#39;s Link State Algorithm Pages: 1 -->\n",
       "<svg width=\"202pt\" height=\"98pt\"\n",
       " viewBox=\"0.00 0.00 202.00 98.00\" xmlns=\"http://www.w3.org/2000/svg\" xmlns:xlink=\"http://www.w3.org/1999/xlink\">\n",
       "<g id=\"graph0\" class=\"graph\" transform=\"scale(1 1) rotate(0) translate(4 94)\">\n",
       "<title>Dijkstra&#39;s Link State Algorithm</title>\n",
       "<polygon fill=\"white\" stroke=\"none\" points=\"-4,4 -4,-94 198,-94 198,4 -4,4\"/>\n",
       "<!-- w -->\n",
       "<g id=\"node1\" class=\"node\">\n",
       "<title>w</title>\n",
       "<ellipse fill=\"none\" stroke=\"black\" cx=\"18\" cy=\"-45\" rx=\"18\" ry=\"18\"/>\n",
       "<text text-anchor=\"middle\" x=\"18\" y=\"-41.3\" font-family=\"Times,serif\" font-size=\"14.00\">w</text>\n",
       "</g>\n",
       "<!-- x -->\n",
       "<g id=\"node2\" class=\"node\">\n",
       "<title>x</title>\n",
       "<ellipse fill=\"none\" stroke=\"black\" cx=\"97\" cy=\"-72\" rx=\"18\" ry=\"18\"/>\n",
       "<text text-anchor=\"middle\" x=\"97\" y=\"-68.3\" font-family=\"Times,serif\" font-size=\"14.00\">x</text>\n",
       "</g>\n",
       "<!-- w&#45;&#45;x -->\n",
       "<g id=\"edge1\" class=\"edge\">\n",
       "<title>w&#45;&#45;x</title>\n",
       "<path fill=\"none\" stroke=\"Red\" d=\"M35.33,-50.73C45.23,-54.2 58.1,-58.71 69.44,-62.69\"/>\n",
       "<polygon fill=\"Red\" stroke=\"Red\" points=\"68.1,-66.28 78.69,-66.28 70.42,-59.67 68.1,-66.28\"/>\n",
       "<text text-anchor=\"middle\" x=\"57.5\" y=\"-62.8\" font-family=\"Times,serif\" font-size=\"14.00\">1</text>\n",
       "</g>\n",
       "<!-- y -->\n",
       "<g id=\"node3\" class=\"node\">\n",
       "<title>y</title>\n",
       "<ellipse fill=\"none\" stroke=\"black\" cx=\"97\" cy=\"-18\" rx=\"18\" ry=\"18\"/>\n",
       "<text text-anchor=\"middle\" x=\"97\" y=\"-14.3\" font-family=\"Times,serif\" font-size=\"14.00\">y</text>\n",
       "</g>\n",
       "<!-- w&#45;&#45;y -->\n",
       "<g id=\"edge2\" class=\"edge\">\n",
       "<title>w&#45;&#45;y</title>\n",
       "<path fill=\"none\" stroke=\"Red\" d=\"M35.33,-39.27C45.23,-35.8 58.1,-31.29 69.44,-27.31\"/>\n",
       "<polygon fill=\"Red\" stroke=\"Red\" points=\"70.42,-30.33 78.69,-23.72 68.1,-23.72 70.42,-30.33\"/>\n",
       "<text text-anchor=\"middle\" x=\"57.5\" y=\"-35.8\" font-family=\"Times,serif\" font-size=\"14.00\">2</text>\n",
       "</g>\n",
       "<!-- z -->\n",
       "<g id=\"node4\" class=\"node\">\n",
       "<title>z</title>\n",
       "<ellipse fill=\"none\" stroke=\"black\" cx=\"176\" cy=\"-45\" rx=\"18\" ry=\"18\"/>\n",
       "<text text-anchor=\"middle\" x=\"176\" y=\"-41.3\" font-family=\"Times,serif\" font-size=\"14.00\">z</text>\n",
       "</g>\n",
       "<!-- x&#45;&#45;z -->\n",
       "<g id=\"edge4\" class=\"edge\">\n",
       "<title>x&#45;&#45;z</title>\n",
       "<path fill=\"none\" stroke=\"black\" d=\"M114.33,-66.27C127.4,-61.69 145.63,-55.3 158.69,-50.72\"/>\n",
       "<text text-anchor=\"middle\" x=\"136.5\" y=\"-62.8\" font-family=\"Times,serif\" font-size=\"14.00\">2</text>\n",
       "</g>\n",
       "<!-- y&#45;&#45;z -->\n",
       "<g id=\"edge3\" class=\"edge\">\n",
       "<title>y&#45;&#45;z</title>\n",
       "<path fill=\"none\" stroke=\"Red\" d=\"M114.46,-22.76C122.25,-25.1 131.65,-28.04 140,-31 142.95,-32.04 146.02,-33.19 149.06,-34.35\"/>\n",
       "<polygon fill=\"Red\" stroke=\"Red\" points=\"147.49,-37.89 158.07,-38.32 150.06,-31.38 147.49,-37.89\"/>\n",
       "<text text-anchor=\"middle\" x=\"136.5\" y=\"-34.8\" font-family=\"Times,serif\" font-size=\"14.00\">1</text>\n",
       "</g>\n",
       "</g>\n",
       "</svg>\n"
      ],
      "text/plain": [
       "<graphviz.graphs.Graph at 0x11742f790>"
      ]
     },
     "execution_count": 12,
     "metadata": {},
     "output_type": "execute_result"
    }
   ],
   "source": [
    "sptree = graphviz.Graph(\"Dijkstra's Link State Algorithm\",\n",
    "                        filename='spanning_tree',\n",
    "                        graph_attr={'rankdir': 'LR'},\n",
    "                        node_attr={'shape': 'circle'})\n",
    "\n",
    "[sptree.node(v) for v in V]\n",
    "[sptree.edge(u, v, dir='forward', label=str(E[(u, v)]), color=\"Red\") for (u, v) in path]\n",
    "[sptree.edge(u, v, label=str(E[(u, v)])) for (u, v) in edges if {u, v} not in map(set, path)]\n",
    "\n",
    "sptree"
   ]
  }
 ],
 "metadata": {
  "kernelspec": {
   "display_name": "Python 3 (ipykernel)",
   "language": "python",
   "name": "python3"
  },
  "language_info": {
   "codemirror_mode": {
    "name": "ipython",
    "version": 3
   },
   "file_extension": ".py",
   "mimetype": "text/x-python",
   "name": "python",
   "nbconvert_exporter": "python",
   "pygments_lexer": "ipython3",
   "version": "3.10.11"
  },
  "vscode": {
   "interpreter": {
    "hash": "b0fa6594d8f4cbf19f97940f81e996739fb7646882a419484c72d19e05852a7e"
   }
  }
 },
 "nbformat": 4,
 "nbformat_minor": 5
}
