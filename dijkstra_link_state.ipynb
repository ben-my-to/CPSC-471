{
 "cells": [
  {
   "cell_type": "code",
   "execution_count": 1,
   "id": "abea0822",
   "metadata": {},
   "outputs": [],
   "source": [
    "import graphviz\n",
    "import numpy as np\n",
    "import pandas as pd\n",
    "from collections import OrderedDict\n",
    "from sortedcollections import OrderedSet"
   ]
  },
  {
   "cell_type": "code",
   "execution_count": 2,
   "id": "a97c5d18",
   "metadata": {},
   "outputs": [],
   "source": [
    "# u = 'w'\n",
    "# V = OrderedSet(sorted('wxyz'))\n",
    "# edges = {\n",
    "#     ('w', 'x'): 1,\n",
    "#     ('w', 'y'): 2,\n",
    "#     ('x', 'z'): 2,\n",
    "#     ('y', 'z'): 1,\n",
    "# }\n",
    "\n",
    "u = \"a\"\n",
    "V = OrderedSet(sorted(\"abcde\"))\n",
    "edges = {\n",
    "    (\"a\", \"b\"): 2,\n",
    "    (\"a\", \"c\"): 1,\n",
    "    (\"b\", \"e\"): 1,\n",
    "    (\"b\", \"d\"): 4,\n",
    "    (\"d\", \"c\"): 8,\n",
    "    (\"c\", \"e\"): 6,\n",
    "    (\"d\", \"e\"): 1,\n",
    "}\n",
    "\n",
    "# u = \"u\"\n",
    "# V = OrderedSet(sorted(\"uvwxyz\"))\n",
    "# edges = {\n",
    "#     (\"u\", \"w\"): 7,\n",
    "#     (\"u\", \"v\"): 3,\n",
    "#     (\"u\", \"x\"): 7,\n",
    "#     (\"v\", \"x\"): 3,\n",
    "#     (\"v\", \"w\"): 7,\n",
    "#     (\"x\", \"w\"): 1,\n",
    "#     (\"x\", \"y\"): 7,\n",
    "#     (\"w\", \"z\"): 7,\n",
    "#     (\"w\", \"y\"): 6,\n",
    "#     (\"y\", \"z\"): 3,\n",
    "# }"
   ]
  },
  {
   "cell_type": "code",
   "execution_count": 3,
   "id": "b1579b22",
   "metadata": {},
   "outputs": [],
   "source": [
    "# # ab2,ac1,be1,bd4,dc8,ce6,de1\n",
    "\n",
    "# x = input()\n",
    "\n",
    "# u = x[0]\n",
    "\n",
    "# V = OrderedSet(sorted(filter(lambda c: c.isalpha(), x)))\n",
    "# edges = {tuple(e): int(w) for *e, w in x.split(\",\")}\n",
    "\n",
    "# print(u)\n",
    "# print(V)\n",
    "# print(edges)"
   ]
  },
  {
   "cell_type": "code",
   "execution_count": 4,
   "id": "275a5c9a",
   "metadata": {},
   "outputs": [],
   "source": [
    "class BiDict(OrderedDict):\n",
    "    \"\"\"https://stackoverflow.com/questions/1456373/two-way-reverse-map\"\"\"\n",
    "\n",
    "    def __setitem__(self, key: tuple, value):\n",
    "        if key in self:\n",
    "            del self[key]\n",
    "\n",
    "        OrderedDict.__setitem__(self, key, value)\n",
    "        OrderedDict.__setitem__(self, key[::-1], value)\n",
    "\n",
    "    def __delitem__(self, key):\n",
    "        OrderedDict.__delitem__(self, key)\n",
    "        OrderedDict.__delitem__(self, key[::-1])"
   ]
  },
  {
   "cell_type": "code",
   "execution_count": 5,
   "id": "219f562c",
   "metadata": {},
   "outputs": [],
   "source": [
    "class Node:\n",
    "    def __init__(self, value, dist=0, prev=None):\n",
    "        self.value = value\n",
    "        self.dist = dist\n",
    "        self.prev = prev  # predecessor node along path from source to self\n",
    "\n",
    "    def __repr__(self):\n",
    "        return self.value\n",
    "\n",
    "    def __str__(self):\n",
    "        return f\"{self.dist},{self.prev!r}\" if self.dist != np.inf else str(np.inf)\n",
    "\n",
    "    def __getitem__(self, q):\n",
    "        \"\"\"Returns the dist from p to q if neighbors; otherwise, infinity\"\"\"\n",
    "        return lookup[self][q]\n",
    "\n",
    "    @property\n",
    "    def neighbors(self):\n",
    "        return OrderedSet(filter(lambda u: (self.value, u.value) in E, G))"
   ]
  },
  {
   "cell_type": "code",
   "execution_count": 6,
   "id": "b1ea3b69",
   "metadata": {},
   "outputs": [],
   "source": [
    "def check(path, cycle=True, connected=True):\n",
    "    \"\"\"Check if a graph is acyclic and/or connected.\n",
    "\n",
    "    While performing a depth-first search on the graph, a cycle\n",
    "    is found if any neighbors have already been explored. As such\n",
    "    the algorithm will not maintain a list of visited nodes. The\n",
    "    graph is unconnected if not all nodes have been explored.\n",
    "    \"\"\"\n",
    "    G = {n: set(v for u, v in path if u == n) for n in V}\n",
    "    \n",
    "    stack, visited = list(u), set()\n",
    "    while stack:\n",
    "        visited.add(n := stack.pop())\n",
    "        stack.extend(G[n] if cycle else G[n] - visited - set(stack))\n",
    "        # NOTE: if cycle, we don't check the stack as those nodes\n",
    "        # pertaining to a cycle will eventually become visited\n",
    "        if any(u in visited for u in stack):\n",
    "            raise AssertionError(\"cycle found\")\n",
    "    if connected and V != visited:\n",
    "        raise AssertionError(f\"nodes {V - visited} were not connected\")"
   ]
  },
  {
   "cell_type": "code",
   "execution_count": 7,
   "id": "0001acb5",
   "metadata": {},
   "outputs": [],
   "source": [
    "E = BiDict(**edges)\n",
    "check(E, cycle=False)"
   ]
  },
  {
   "cell_type": "code",
   "execution_count": 8,
   "id": "3cf18aaf",
   "metadata": {},
   "outputs": [],
   "source": [
    "path = set()\n",
    "init = Node(value=u)\n",
    "\n",
    "graph = OrderedSet(\n",
    "    map(lambda v: Node(value=v, dist=E.get((u, v), np.inf), prev=init), V - {u})\n",
    ")\n",
    "visited = OrderedSet({init})\n",
    "\n",
    "G = visited | graph\n",
    "lookup = OrderedDict(\n",
    "    {u: OrderedDict({v: E.get((u.value, v.value), np.inf) for v in G - {u}}) for u in G}\n",
    ")"
   ]
  },
  {
   "cell_type": "code",
   "execution_count": 9,
   "id": "449e5345",
   "metadata": {},
   "outputs": [],
   "source": [
    "headers = [(f\"D({v!r}),p({v!r})\", [str(v)]) for v in graph]\n",
    "table = OrderedDict([(\"N'\", [u]), *headers])"
   ]
  },
  {
   "cell_type": "code",
   "execution_count": 10,
   "id": "a3a6afee",
   "metadata": {},
   "outputs": [
    {
     "name": "stdout",
     "output_type": "stream",
     "text": [
      "===NODE c===\n",
      "D(d) = min(D(d), D(c) + C(c, d)) = min(inf, 1 + 8) = min(inf, 9) = 9\n",
      "D(e) = min(D(e), D(c) + C(c, e)) = min(inf, 1 + 6) = min(inf, 7) = 7\n",
      "===NODE b===\n",
      "D(d) = min(D(d), D(b) + C(b, d)) = min(9, 2 + 4) = min(9, 6) = 6\n",
      "D(e) = min(D(e), D(b) + C(b, e)) = min(7, 2 + 1) = min(7, 3) = 3\n",
      "===NODE e===\n",
      "D(d) = min(D(d), D(e) + C(e, d)) = min(6, 3 + 1) = min(6, 4) = 4\n",
      "===NODE d===\n"
     ]
    }
   ],
   "source": [
    "for _ in range(1, len(V)):\n",
    "    # NOTE: Python's min() function always selects the first occurrence if dist are equal\n",
    "    # Therefore, priority is based on alphabetical order\n",
    "    p = min(graph - visited, key=lambda u: u.dist)\n",
    "    visited.add(p)\n",
    "    path.add((p.prev.value, p.value))\n",
    "\n",
    "    table[\"N'\"].append(\"\".join(map(repr, visited)))\n",
    "    print(f\"===NODE {p!r}===\")\n",
    "\n",
    "    for q in p.neighbors - visited:\n",
    "        print(\n",
    "            f\"D({q!r}) = min(D({q!r}), D({p!r}) + C({p!r}, {q!r})) =\",\n",
    "            f\"min({q.dist}, {p.dist} + {p[q]}) =\",\n",
    "            f\"min({q.dist}, {p.dist + p[q]}) =\",\n",
    "            min(q.dist, p.dist + p[q]),\n",
    "        )\n",
    "\n",
    "        # NOTE: if the algorithm finds another path from p to q with the same dist/cost,\n",
    "        # it will change paths/routes (aka, change parents)\n",
    "        if p.dist + p[q] <= q.dist:\n",
    "            q.dist = p.dist + p[q]\n",
    "            q.prev = p\n",
    "\n",
    "        table[f\"D({q!r}),p({q!r})\"].append(str(q))\n",
    "\n",
    "    for q in graph - visited - p.neighbors:  # unreachable nodes from p\n",
    "        table[f\"D({q!r}),p({q!r})\"].append(str(q))"
   ]
  },
  {
   "cell_type": "code",
   "execution_count": 11,
   "id": "902806f3",
   "metadata": {},
   "outputs": [],
   "source": [
    "for i, j in enumerate(sorted(table.values(), key=len, reverse=True)):\n",
    "    j.extend([\"---\"] * i)"
   ]
  },
  {
   "cell_type": "code",
   "execution_count": 12,
   "id": "11ffd632",
   "metadata": {},
   "outputs": [],
   "source": [
    "check(path)"
   ]
  },
  {
   "cell_type": "code",
   "execution_count": 13,
   "id": "6d0af319",
   "metadata": {},
   "outputs": [
    {
     "name": "stdout",
     "output_type": "stream",
     "text": [
      "╭────┬───────┬─────────────┬─────────────┬─────────────┬─────────────╮\n",
      "│    │ N'    │ D(b),p(b)   │ D(c),p(c)   │ D(d),p(d)   │ D(e),p(e)   │\n",
      "├────┼───────┼─────────────┼─────────────┼─────────────┼─────────────┤\n",
      "│  0 │ a     │ 2,a         │ 1,a         │ inf         │ inf         │\n",
      "├────┼───────┼─────────────┼─────────────┼─────────────┼─────────────┤\n",
      "│  1 │ ac    │ 2,a         │ ---         │ 9,c         │ 7,c         │\n",
      "├────┼───────┼─────────────┼─────────────┼─────────────┼─────────────┤\n",
      "│  2 │ acb   │ ---         │ ---         │ 6,b         │ 3,b         │\n",
      "├────┼───────┼─────────────┼─────────────┼─────────────┼─────────────┤\n",
      "│  3 │ acbe  │ ---         │ ---         │ 4,e         │ ---         │\n",
      "├────┼───────┼─────────────┼─────────────┼─────────────┼─────────────┤\n",
      "│  4 │ acbed │ ---         │ ---         │ ---         │ ---         │\n",
      "╰────┴───────┴─────────────┴─────────────┴─────────────┴─────────────╯\n"
     ]
    }
   ],
   "source": [
    "print(pd.DataFrame(table).to_markdown(tablefmt=\"rounded_grid\"))"
   ]
  },
  {
   "cell_type": "code",
   "execution_count": 14,
   "id": "9af8c5c8",
   "metadata": {},
   "outputs": [
    {
     "data": {
      "image/svg+xml": [
       "<?xml version=\"1.0\" encoding=\"UTF-8\" standalone=\"no\"?>\n",
       "<!DOCTYPE svg PUBLIC \"-//W3C//DTD SVG 1.1//EN\"\n",
       " \"http://www.w3.org/Graphics/SVG/1.1/DTD/svg11.dtd\">\n",
       "<!-- Generated by graphviz version 8.0.2 (20230410.1723)\n",
       " -->\n",
       "<!-- Title: Dijkstra&#39;s Link State Algorithm Pages: 1 -->\n",
       "<svg width=\"360pt\" height=\"117pt\"\n",
       " viewBox=\"0.00 0.00 360.00 117.00\" xmlns=\"http://www.w3.org/2000/svg\" xmlns:xlink=\"http://www.w3.org/1999/xlink\">\n",
       "<g id=\"graph0\" class=\"graph\" transform=\"scale(1 1) rotate(0) translate(4 113)\">\n",
       "<title>Dijkstra&#39;s Link State Algorithm</title>\n",
       "<polygon fill=\"white\" stroke=\"none\" points=\"-4,4 -4,-113 356,-113 356,4 -4,4\"/>\n",
       "<!-- a -->\n",
       "<g id=\"node1\" class=\"node\">\n",
       "<title>a</title>\n",
       "<ellipse fill=\"none\" stroke=\"black\" cx=\"18\" cy=\"-25\" rx=\"18\" ry=\"18\"/>\n",
       "<text text-anchor=\"middle\" x=\"18\" y=\"-21.3\" font-family=\"Times,serif\" font-size=\"14.00\">a</text>\n",
       "</g>\n",
       "<!-- b -->\n",
       "<g id=\"node2\" class=\"node\">\n",
       "<title>b</title>\n",
       "<ellipse fill=\"none\" stroke=\"black\" cx=\"97\" cy=\"-62\" rx=\"18\" ry=\"18\"/>\n",
       "<text text-anchor=\"middle\" x=\"97\" y=\"-58.3\" font-family=\"Times,serif\" font-size=\"14.00\">b</text>\n",
       "</g>\n",
       "<!-- a&#45;&#45;b -->\n",
       "<g id=\"edge2\" class=\"edge\">\n",
       "<title>a&#45;&#45;b</title>\n",
       "<path fill=\"none\" stroke=\"Red\" d=\"M34.58,-32.49C44.85,-37.42 58.53,-43.99 70.37,-49.69\"/>\n",
       "<polygon fill=\"Red\" stroke=\"Red\" points=\"68.65,-53.22 79.18,-54.4 71.68,-46.91 68.65,-53.22\"/>\n",
       "<text text-anchor=\"middle\" x=\"57.5\" y=\"-47.8\" font-family=\"Times,serif\" font-size=\"14.00\">2</text>\n",
       "</g>\n",
       "<!-- c -->\n",
       "<g id=\"node3\" class=\"node\">\n",
       "<title>c</title>\n",
       "<ellipse fill=\"none\" stroke=\"black\" cx=\"255\" cy=\"-18\" rx=\"18\" ry=\"18\"/>\n",
       "<text text-anchor=\"middle\" x=\"255\" y=\"-14.3\" font-family=\"Times,serif\" font-size=\"14.00\">c</text>\n",
       "</g>\n",
       "<!-- a&#45;&#45;c -->\n",
       "<g id=\"edge3\" class=\"edge\">\n",
       "<title>a&#45;&#45;c</title>\n",
       "<path fill=\"none\" stroke=\"Red\" d=\"M36.28,-24.49C76.51,-23.29 176.75,-20.3 225.91,-18.84\"/>\n",
       "<polygon fill=\"Red\" stroke=\"Red\" points=\"225.8,-22.31 235.69,-18.52 225.59,-15.31 225.8,-22.31\"/>\n",
       "<text text-anchor=\"middle\" x=\"136.5\" y=\"-24.8\" font-family=\"Times,serif\" font-size=\"14.00\">1</text>\n",
       "</g>\n",
       "<!-- d -->\n",
       "<g id=\"node4\" class=\"node\">\n",
       "<title>d</title>\n",
       "<ellipse fill=\"none\" stroke=\"black\" cx=\"176\" cy=\"-62\" rx=\"18\" ry=\"18\"/>\n",
       "<text text-anchor=\"middle\" x=\"176\" y=\"-58.3\" font-family=\"Times,serif\" font-size=\"14.00\">d</text>\n",
       "</g>\n",
       "<!-- b&#45;&#45;d -->\n",
       "<g id=\"edge5\" class=\"edge\">\n",
       "<title>b&#45;&#45;d</title>\n",
       "<path fill=\"none\" stroke=\"black\" d=\"M115.47,-62C128.07,-62 145.01,-62 157.6,-62\"/>\n",
       "<text text-anchor=\"middle\" x=\"136.5\" y=\"-65.8\" font-family=\"Times,serif\" font-size=\"14.00\">4</text>\n",
       "</g>\n",
       "<!-- e -->\n",
       "<g id=\"node5\" class=\"node\">\n",
       "<title>e</title>\n",
       "<ellipse fill=\"none\" stroke=\"black\" cx=\"334\" cy=\"-72\" rx=\"18\" ry=\"18\"/>\n",
       "<text text-anchor=\"middle\" x=\"334\" y=\"-68.3\" font-family=\"Times,serif\" font-size=\"14.00\">e</text>\n",
       "</g>\n",
       "<!-- b&#45;&#45;e -->\n",
       "<g id=\"edge1\" class=\"edge\">\n",
       "<title>b&#45;&#45;e</title>\n",
       "<path fill=\"none\" stroke=\"Red\" d=\"M112.59,-71.25C124.32,-78.01 141.52,-86.43 158,-89 219.53,-98.61 237.11,-96.1 298,-83 300.72,-82.41 303.54,-81.71 306.34,-80.94\"/>\n",
       "<polygon fill=\"Red\" stroke=\"Red\" points=\"307.22,-84.02 315.79,-77.78 305.2,-77.32 307.22,-84.02\"/>\n",
       "<text text-anchor=\"middle\" x=\"215.5\" y=\"-97.8\" font-family=\"Times,serif\" font-size=\"14.00\">1</text>\n",
       "</g>\n",
       "<!-- c&#45;&#45;e -->\n",
       "<g id=\"edge7\" class=\"edge\">\n",
       "<title>c&#45;&#45;e</title>\n",
       "<path fill=\"none\" stroke=\"black\" d=\"M271.13,-26.25C279.28,-30.88 289.4,-36.93 298,-43 305.48,-48.28 313.37,-54.73 319.76,-60.2\"/>\n",
       "<text text-anchor=\"middle\" x=\"294.5\" y=\"-46.8\" font-family=\"Times,serif\" font-size=\"14.00\">6</text>\n",
       "</g>\n",
       "<!-- d&#45;&#45;c -->\n",
       "<g id=\"edge6\" class=\"edge\">\n",
       "<title>d&#45;&#45;c</title>\n",
       "<path fill=\"none\" stroke=\"black\" d=\"M192.21,-53.31C205.71,-45.59 225.33,-34.38 238.82,-26.67\"/>\n",
       "<text text-anchor=\"middle\" x=\"215.5\" y=\"-44.8\" font-family=\"Times,serif\" font-size=\"14.00\">8</text>\n",
       "</g>\n",
       "<!-- e&#45;&#45;d -->\n",
       "<g id=\"edge4\" class=\"edge\">\n",
       "<title>e&#45;&#45;d</title>\n",
       "<path fill=\"none\" stroke=\"Red\" d=\"M315.63,-70.89C288.88,-69.17 237.32,-65.87 205.17,-63.81\"/>\n",
       "<polygon fill=\"Red\" stroke=\"Red\" points=\"205.49,-60.26 195.29,-63.11 205.05,-67.24 205.49,-60.26\"/>\n",
       "<text text-anchor=\"middle\" x=\"255\" y=\"-70.8\" font-family=\"Times,serif\" font-size=\"14.00\">1</text>\n",
       "</g>\n",
       "</g>\n",
       "</svg>\n"
      ],
      "text/plain": [
       "<graphviz.graphs.Graph at 0x11f40f580>"
      ]
     },
     "execution_count": 14,
     "metadata": {},
     "output_type": "execute_result"
    }
   ],
   "source": [
    "sptree = graphviz.Graph(\n",
    "    \"Dijkstra's Link State Algorithm\",\n",
    "    filename=\"spanning_tree\",\n",
    "    graph_attr={\"rankdir\": \"LR\"},\n",
    "    node_attr={\"shape\": \"circle\"},\n",
    ")\n",
    "\n",
    "[sptree.node(v) for v in V]\n",
    "[sptree.edge(u, v, dir=\"forward\", label=str(E[(u, v)]), color=\"Red\") for u, v in path]\n",
    "[\n",
    "    sptree.edge(u, v, label=str(E[(u, v)]))\n",
    "    for (u, v) in edges\n",
    "    if {u, v} not in map(set, path)\n",
    "]\n",
    "\n",
    "sptree"
   ]
  }
 ],
 "metadata": {
  "kernelspec": {
   "display_name": "Python 3 (ipykernel)",
   "language": "python",
   "name": "python3"
  },
  "language_info": {
   "codemirror_mode": {
    "name": "ipython",
    "version": 3
   },
   "file_extension": ".py",
   "mimetype": "text/x-python",
   "name": "python",
   "nbconvert_exporter": "python",
   "pygments_lexer": "ipython3",
   "version": "3.10.11"
  },
  "vscode": {
   "interpreter": {
    "hash": "b0fa6594d8f4cbf19f97940f81e996739fb7646882a419484c72d19e05852a7e"
   }
  }
 },
 "nbformat": 4,
 "nbformat_minor": 5
}
