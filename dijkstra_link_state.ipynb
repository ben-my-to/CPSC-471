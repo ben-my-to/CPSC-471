{
 "cells": [
  {
   "cell_type": "code",
   "execution_count": 1,
   "id": "abea0822",
   "metadata": {},
   "outputs": [],
   "source": [
    "import graphviz\n",
    "import numpy as np\n",
    "import pandas as pd\n",
    "from collections import OrderedDict\n",
    "from sortedcollections import OrderedSet\n",
    "\n",
    "path = set()"
   ]
  },
  {
   "cell_type": "code",
   "execution_count": 2,
   "id": "a97c5d18",
   "metadata": {},
   "outputs": [],
   "source": [
    "###########\n",
    "\n",
    "start = 'u'\n",
    "V = 'uvwxyz'\n",
    "E = {\n",
    "    ('u', 'w'): 8,\n",
    "    ('u', 'v'): 6,\n",
    "    ('u', 'x'): 6,\n",
    "    ('v', 'x'): 8,\n",
    "    ('v', 'w'): 4,\n",
    "    ('x', 'w'): 1,\n",
    "    ('x', 'y'): 7,\n",
    "    ('w', 'z'): 9,\n",
    "    ('w', 'y'): 1,\n",
    "    ('y', 'z'): 8,\n",
    "}\n",
    "\n",
    "# start = 'u'\n",
    "# V = 'uvwxyz'\n",
    "# E = {\n",
    "#     ('u', 'x'): 5,\n",
    "#     ('u', 'w'): 3,\n",
    "#     ('u', 'v'): 7,\n",
    "#     ('w', 'x'): 4,\n",
    "#     ('w', 'v'): 3,\n",
    "#     ('w', 'y'): 8,\n",
    "#     ('x', 'y'): 7,\n",
    "#     ('x', 'z'): 9,\n",
    "#     ('v', 'y'): 4,\n",
    "#     ('y', 'z'): 2,\n",
    "# }\n",
    "\n",
    "###########"
   ]
  },
  {
   "cell_type": "code",
   "execution_count": 3,
   "id": "f680aaac",
   "metadata": {},
   "outputs": [],
   "source": [
    "class Node:\n",
    "    def __init__(self, value, dist=0, parent=None):\n",
    "        self.value = value\n",
    "        self.dist = dist      # the distance (cost) value toward the initiator\n",
    "        self.parent = parent  # predecessor node in the spanning tree rooted at the initiator\n",
    "\n",
    "    def __repr__(self):\n",
    "        return self.value\n",
    "\n",
    "    def __str__(self):\n",
    "        return f\"Node(value={self.value}, dist={self.dist}, parent={self.parent})\"\n",
    "\n",
    "    def __getitem__(self, q):\n",
    "        \"\"\"Returns the dist from node `p` to `q` if an edge exists; otherwise, infinity\"\"\"\n",
    "        return E[(self.value, q.value)] if (self.value, q.value) in E else np.inf"
   ]
  },
  {
   "cell_type": "code",
   "execution_count": 4,
   "id": "3cf18aaf",
   "metadata": {},
   "outputs": [
    {
     "name": "stdout",
     "output_type": "stream",
     "text": [
      "Graph: OrderedSet([v, w, x, y, z])\n",
      "Visited: OrderedSet([u])\n",
      "Table: OrderedDict([(\"N'\", ['u'])])\n"
     ]
    }
   ],
   "source": [
    "graph = OrderedSet(map(lambda u: Node(value=u, parent=Node(value=start)), sorted(set(V) - set(start))))\n",
    "visited = OrderedSet({Node(value=start)})  # set of nodes whose least-cost-path is definitively known\n",
    "table = OrderedDict([(\"N'\", [start])])\n",
    "\n",
    "print(f\"Graph: {graph}\", f\"Visited: {visited}\", f\"Table: {table}\", sep='\\n')"
   ]
  },
  {
   "cell_type": "code",
   "execution_count": 5,
   "id": "aaaf015f",
   "metadata": {},
   "outputs": [
    {
     "data": {
      "text/plain": [
       "OrderedDict([(\"N'\", ['u']),\n",
       "             ('D(v),p(v)', ['6,u']),\n",
       "             ('D(w),p(w)', ['8,u']),\n",
       "             ('D(x),p(x)', ['6,u']),\n",
       "             ('D(y),p(y)', [inf]),\n",
       "             ('D(z),p(z)', [inf])])"
      ]
     },
     "execution_count": 5,
     "metadata": {},
     "output_type": "execute_result"
    }
   ],
   "source": [
    "for u in graph:\n",
    "    if (start, u.value) in E:\n",
    "        u.dist = E[(start, u.value)]\n",
    "        table[f\"D({u.value}),p({u.value})\"] = [f\"{u.dist},{u.parent.value}\"]\n",
    "    else:\n",
    "        u.dist = np.inf\n",
    "        table[f\"D({u.value}),p({u.value})\"] = [np.inf]\n",
    "\n",
    "table"
   ]
  },
  {
   "cell_type": "code",
   "execution_count": 6,
   "id": "902806f3",
   "metadata": {},
   "outputs": [
    {
     "name": "stdout",
     "output_type": "stream",
     "text": [
      "D(w) = min(D(w), D(v) + C(v, w)) = min(8, 6 + 4) = min(8, 10) = 8\n",
      "D(x) = min(D(x), D(v) + C(v, x)) = min(6, 6 + 8) = min(6, 14) = 6\n",
      "D(w) = min(D(w), D(x) + C(x, w)) = min(8, 6 + 1) = min(8, 7) = 7\n",
      "D(y) = min(D(y), D(x) + C(x, y)) = min(inf, 6 + 7) = min(inf, 13) = 13\n",
      "D(y) = min(D(y), D(w) + C(w, y)) = min(13, 7 + 1) = min(13, 8) = 8\n",
      "D(z) = min(D(z), D(w) + C(w, z)) = min(inf, 7 + 9) = min(inf, 16) = 16\n",
      "D(z) = min(D(z), D(y) + C(y, z)) = min(16, 8 + 8) = min(16, 16) = 16\n"
     ]
    },
    {
     "data": {
      "text/plain": [
       "OrderedDict([(\"N'\", ['u', 'uv', 'uvx', 'uvxw', 'uvxwy', 'uvxwyz']),\n",
       "             ('D(v),p(v)', ['6,u', '---', '---', '---', '---', '---']),\n",
       "             ('D(w),p(w)', ['8,u', '8,u', '7,x', '---', '---', '---']),\n",
       "             ('D(x),p(x)', ['6,u', '6,u', '---', '---', '---', '---']),\n",
       "             ('D(y),p(y)', [inf, inf, '13,x', '8,w', '---', '---']),\n",
       "             ('D(z),p(z)', [inf, inf, inf, '16,w', '16,w', '---'])])"
      ]
     },
     "execution_count": 6,
     "metadata": {},
     "output_type": "execute_result"
    }
   ],
   "source": [
    "for _ in range(len(V)-1):\n",
    "    p = min(graph-visited, key=lambda u: u.dist)\n",
    "\n",
    "    visited.add(p)\n",
    "    path.add((p.parent.value, p.value))  # NOTE: used for graphviz\n",
    "    \n",
    "    table[\"N'\"].append(''.join(map(repr, visited)))\n",
    "\n",
    "    for q in graph:\n",
    "        header = f\"D({q.value}),p({q.value})\"\n",
    "\n",
    "        if q in visited or (p.value, q.value) not in E:\n",
    "            table[header].append(\"---\" if q in visited else np.inf)\n",
    "            continue\n",
    "\n",
    "        print(f\"D({q.value}) = min(D({q.value}), D({p.value}) + C({p.value}, {q.value})) =\",\n",
    "              f\"min({q.dist}, {p.dist} + {p[q]}) =\",\n",
    "              f\"min({q.dist}, {p.dist + p[q]}) =\",\n",
    "              min(q.dist, p.dist + p[q]))\n",
    "\n",
    "        if (p.dist + p[q]) < q.dist:\n",
    "            q.dist = p.dist + p[q]\n",
    "            q.parent = p\n",
    "\n",
    "        table[header].append(f\"{q.dist},{q.parent.value}\")\n",
    "\n",
    "table"
   ]
  },
  {
   "cell_type": "code",
   "execution_count": 7,
   "id": "6d0af319",
   "metadata": {},
   "outputs": [
    {
     "name": "stdout",
     "output_type": "stream",
     "text": [
      "╭────┬────────┬─────────────┬─────────────┬─────────────┬─────────────┬─────────────╮\n",
      "│    │ N'     │ D(v),p(v)   │ D(w),p(w)   │ D(x),p(x)   │ D(y),p(y)   │ D(z),p(z)   │\n",
      "├────┼────────┼─────────────┼─────────────┼─────────────┼─────────────┼─────────────┤\n",
      "│  0 │ u      │ 6,u         │ 8,u         │ 6,u         │ inf         │ inf         │\n",
      "├────┼────────┼─────────────┼─────────────┼─────────────┼─────────────┼─────────────┤\n",
      "│  1 │ uv     │ ---         │ 8,u         │ 6,u         │ inf         │ inf         │\n",
      "├────┼────────┼─────────────┼─────────────┼─────────────┼─────────────┼─────────────┤\n",
      "│  2 │ uvx    │ ---         │ 7,x         │ ---         │ 13,x        │ inf         │\n",
      "├────┼────────┼─────────────┼─────────────┼─────────────┼─────────────┼─────────────┤\n",
      "│  3 │ uvxw   │ ---         │ ---         │ ---         │ 8,w         │ 16,w        │\n",
      "├────┼────────┼─────────────┼─────────────┼─────────────┼─────────────┼─────────────┤\n",
      "│  4 │ uvxwy  │ ---         │ ---         │ ---         │ ---         │ 16,w        │\n",
      "├────┼────────┼─────────────┼─────────────┼─────────────┼─────────────┼─────────────┤\n",
      "│  5 │ uvxwyz │ ---         │ ---         │ ---         │ ---         │ ---         │\n",
      "╰────┴────────┴─────────────┴─────────────┴─────────────┴─────────────┴─────────────╯\n"
     ]
    }
   ],
   "source": [
    "print(pd.DataFrame(table).to_markdown(tablefmt=\"rounded_grid\"))"
   ]
  },
  {
   "cell_type": "code",
   "execution_count": 8,
   "id": "9af8c5c8",
   "metadata": {},
   "outputs": [
    {
     "data": {
      "image/svg+xml": [
       "<?xml version=\"1.0\" encoding=\"UTF-8\" standalone=\"no\"?>\n",
       "<!DOCTYPE svg PUBLIC \"-//W3C//DTD SVG 1.1//EN\"\n",
       " \"http://www.w3.org/Graphics/SVG/1.1/DTD/svg11.dtd\">\n",
       "<!-- Generated by graphviz version 8.0.1 (20230327.1645)\n",
       " -->\n",
       "<!-- Title: Dijkstra&#39;s Link State Algorithm Pages: 1 -->\n",
       "<svg width=\"547pt\" height=\"125pt\"\n",
       " viewBox=\"0.00 0.00 547.00 125.00\" xmlns=\"http://www.w3.org/2000/svg\" xmlns:xlink=\"http://www.w3.org/1999/xlink\">\n",
       "<g id=\"graph0\" class=\"graph\" transform=\"scale(1 1) rotate(0) translate(4 121)\">\n",
       "<title>Dijkstra&#39;s Link State Algorithm</title>\n",
       "<polygon fill=\"white\" stroke=\"none\" points=\"-4,4 -4,-121 543,-121 543,4 -4,4\"/>\n",
       "<!-- u -->\n",
       "<g id=\"node1\" class=\"node\">\n",
       "<title>u</title>\n",
       "<ellipse fill=\"none\" stroke=\"black\" cx=\"27\" cy=\"-68\" rx=\"27\" ry=\"18\"/>\n",
       "<text text-anchor=\"middle\" x=\"27\" y=\"-64.3\" font-family=\"Times,serif\" font-size=\"14.00\">u</text>\n",
       "</g>\n",
       "<!-- v -->\n",
       "<g id=\"node2\" class=\"node\">\n",
       "<title>v</title>\n",
       "<ellipse fill=\"none\" stroke=\"black\" cx=\"124\" cy=\"-68\" rx=\"27\" ry=\"18\"/>\n",
       "<text text-anchor=\"middle\" x=\"124\" y=\"-64.3\" font-family=\"Times,serif\" font-size=\"14.00\">v</text>\n",
       "</g>\n",
       "<!-- u&#45;&gt;v -->\n",
       "<g id=\"edge2\" class=\"edge\">\n",
       "<title>u&#45;&gt;v</title>\n",
       "<path fill=\"none\" stroke=\"Red\" d=\"M54.46,-68C64.14,-68 75.28,-68 85.72,-68\"/>\n",
       "<polygon fill=\"Red\" stroke=\"Red\" points=\"85.68,-71.5 95.68,-68 85.68,-64.5 85.68,-71.5\"/>\n",
       "<text text-anchor=\"middle\" x=\"75.5\" y=\"-71.8\" font-family=\"Times,serif\" font-size=\"14.00\">6</text>\n",
       "</g>\n",
       "<!-- w -->\n",
       "<g id=\"node3\" class=\"node\">\n",
       "<title>w</title>\n",
       "<ellipse fill=\"none\" stroke=\"black\" cx=\"318\" cy=\"-76\" rx=\"27\" ry=\"18\"/>\n",
       "<text text-anchor=\"middle\" x=\"318\" y=\"-72.3\" font-family=\"Times,serif\" font-size=\"14.00\">w</text>\n",
       "</g>\n",
       "<!-- u&#45;&gt;w -->\n",
       "<g id=\"edge1\" class=\"edge\">\n",
       "<title>u&#45;&gt;w</title>\n",
       "<path fill=\"none\" stroke=\"black\" d=\"M49.07,-79.02C62.4,-85.28 80.22,-92.38 97,-95 174.35,-107.07 196.48,-104.51 273,-88 276.05,-87.34 279.2,-86.6 282.35,-85.82\"/>\n",
       "<polygon fill=\"black\" stroke=\"black\" points=\"283.11,-88.98 291.91,-83.07 281.35,-82.21 283.11,-88.98\"/>\n",
       "<text text-anchor=\"middle\" x=\"172.5\" y=\"-105.8\" font-family=\"Times,serif\" font-size=\"14.00\">8</text>\n",
       "</g>\n",
       "<!-- x -->\n",
       "<g id=\"node4\" class=\"node\">\n",
       "<title>x</title>\n",
       "<ellipse fill=\"none\" stroke=\"black\" cx=\"221\" cy=\"-18\" rx=\"27\" ry=\"18\"/>\n",
       "<text text-anchor=\"middle\" x=\"221\" y=\"-14.3\" font-family=\"Times,serif\" font-size=\"14.00\">x</text>\n",
       "</g>\n",
       "<!-- u&#45;&gt;x -->\n",
       "<g id=\"edge3\" class=\"edge\">\n",
       "<title>u&#45;&gt;x</title>\n",
       "<path fill=\"none\" stroke=\"Red\" d=\"M45.29,-54.2C58.59,-44.44 77.88,-32.04 97,-26 124.96,-17.17 158.22,-15.5 183.11,-15.86\"/>\n",
       "<polygon fill=\"Red\" stroke=\"Red\" points=\"182.81,-19.38 192.9,-16.14 183,-12.38 182.81,-19.38\"/>\n",
       "<text text-anchor=\"middle\" x=\"124\" y=\"-29.8\" font-family=\"Times,serif\" font-size=\"14.00\">6</text>\n",
       "</g>\n",
       "<!-- v&#45;&gt;w -->\n",
       "<g id=\"edge5\" class=\"edge\">\n",
       "<title>v&#45;&gt;w</title>\n",
       "<path fill=\"none\" stroke=\"black\" d=\"M151.29,-69.1C184.67,-70.49 242.42,-72.89 280.16,-74.47\"/>\n",
       "<polygon fill=\"black\" stroke=\"black\" points=\"279.58,-77.99 289.72,-74.9 279.87,-70.99 279.58,-77.99\"/>\n",
       "<text text-anchor=\"middle\" x=\"221\" y=\"-76.8\" font-family=\"Times,serif\" font-size=\"14.00\">4</text>\n",
       "</g>\n",
       "<!-- v&#45;&gt;x -->\n",
       "<g id=\"edge4\" class=\"edge\">\n",
       "<title>v&#45;&gt;x</title>\n",
       "<path fill=\"none\" stroke=\"black\" d=\"M145.61,-57.15C158.47,-50.38 175.25,-41.55 189.62,-33.99\"/>\n",
       "<polygon fill=\"black\" stroke=\"black\" points=\"190.88,-36.76 198.1,-29 187.62,-30.56 190.88,-36.76\"/>\n",
       "<text text-anchor=\"middle\" x=\"172.5\" y=\"-48.8\" font-family=\"Times,serif\" font-size=\"14.00\">8</text>\n",
       "</g>\n",
       "<!-- y -->\n",
       "<g id=\"node5\" class=\"node\">\n",
       "<title>y</title>\n",
       "<ellipse fill=\"none\" stroke=\"black\" cx=\"415\" cy=\"-22\" rx=\"27\" ry=\"18\"/>\n",
       "<text text-anchor=\"middle\" x=\"415\" y=\"-18.3\" font-family=\"Times,serif\" font-size=\"14.00\">y</text>\n",
       "</g>\n",
       "<!-- w&#45;&gt;y -->\n",
       "<g id=\"edge9\" class=\"edge\">\n",
       "<title>w&#45;&gt;y</title>\n",
       "<path fill=\"none\" stroke=\"Red\" d=\"M337.51,-63.05C345.25,-57.83 354.42,-51.9 363,-47 369.12,-43.5 375.81,-40 382.26,-36.78\"/>\n",
       "<polygon fill=\"Red\" stroke=\"Red\" points=\"383.64,-39.52 391.09,-31.99 380.57,-33.22 383.64,-39.52\"/>\n",
       "<text text-anchor=\"middle\" x=\"366.5\" y=\"-50.8\" font-family=\"Times,serif\" font-size=\"14.00\">1</text>\n",
       "</g>\n",
       "<!-- z -->\n",
       "<g id=\"node6\" class=\"node\">\n",
       "<title>z</title>\n",
       "<ellipse fill=\"none\" stroke=\"black\" cx=\"512\" cy=\"-49\" rx=\"27\" ry=\"18\"/>\n",
       "<text text-anchor=\"middle\" x=\"512\" y=\"-45.3\" font-family=\"Times,serif\" font-size=\"14.00\">z</text>\n",
       "</g>\n",
       "<!-- w&#45;&gt;z -->\n",
       "<g id=\"edge8\" class=\"edge\">\n",
       "<title>w&#45;&gt;z</title>\n",
       "<path fill=\"none\" stroke=\"Red\" d=\"M344.96,-72.68C374.53,-68.85 424.29,-62.28 467,-56 469.52,-55.63 472.12,-55.24 474.73,-54.84\"/>\n",
       "<polygon fill=\"Red\" stroke=\"Red\" points=\"475.08,-58.17 484.42,-53.17 474,-51.25 475.08,-58.17\"/>\n",
       "<text text-anchor=\"middle\" x=\"415\" y=\"-69.8\" font-family=\"Times,serif\" font-size=\"14.00\">9</text>\n",
       "</g>\n",
       "<!-- x&#45;&gt;w -->\n",
       "<g id=\"edge6\" class=\"edge\">\n",
       "<title>x&#45;&gt;w</title>\n",
       "<path fill=\"none\" stroke=\"Red\" d=\"M242.53,-29.27C251.9,-34.52 263.1,-40.93 273,-47 278.4,-50.31 284.09,-53.95 289.53,-57.49\"/>\n",
       "<polygon fill=\"Red\" stroke=\"Red\" points=\"287.06,-60.72 297.33,-63.31 290.91,-54.88 287.06,-60.72\"/>\n",
       "<text text-anchor=\"middle\" x=\"269.5\" y=\"-50.8\" font-family=\"Times,serif\" font-size=\"14.00\">1</text>\n",
       "</g>\n",
       "<!-- x&#45;&gt;y -->\n",
       "<g id=\"edge7\" class=\"edge\">\n",
       "<title>x&#45;&gt;y</title>\n",
       "<path fill=\"none\" stroke=\"black\" d=\"M248.29,-18.55C281.67,-19.24 339.42,-20.45 377.16,-21.23\"/>\n",
       "<polygon fill=\"black\" stroke=\"black\" points=\"376.65,-24.74 386.72,-21.45 376.79,-17.74 376.65,-24.74\"/>\n",
       "<text text-anchor=\"middle\" x=\"318\" y=\"-24.8\" font-family=\"Times,serif\" font-size=\"14.00\">7</text>\n",
       "</g>\n",
       "<!-- y&#45;&gt;z -->\n",
       "<g id=\"edge10\" class=\"edge\">\n",
       "<title>y&#45;&gt;z</title>\n",
       "<path fill=\"none\" stroke=\"black\" d=\"M440.46,-28.95C451.32,-32.04 464.3,-35.73 476.15,-39.1\"/>\n",
       "<polygon fill=\"black\" stroke=\"black\" points=\"475.04,-42.7 485.62,-42.07 476.96,-35.97 475.04,-42.7\"/>\n",
       "<text text-anchor=\"middle\" x=\"463.5\" y=\"-40.8\" font-family=\"Times,serif\" font-size=\"14.00\">8</text>\n",
       "</g>\n",
       "</g>\n",
       "</svg>\n"
      ],
      "text/plain": [
       "<graphviz.graphs.Digraph at 0x11f075f00>"
      ]
     },
     "execution_count": 8,
     "metadata": {},
     "output_type": "execute_result"
    }
   ],
   "source": [
    "sptree = graphviz.Digraph(\"Dijkstra's Link State Algorithm\", filename='spanning_tree')\n",
    "sptree.attr(rankdir='LR')\n",
    "\n",
    "[sptree.node(v) for v in V]\n",
    "[sptree.edge(u, v, label=str(E[(u, v)]), color=\"Red\" if (u, v) in path else None) for (u, v) in E]\n",
    "\n",
    "sptree"
   ]
  },
  {
   "cell_type": "code",
   "execution_count": null,
   "id": "beb0a396",
   "metadata": {},
   "outputs": [],
   "source": []
  }
 ],
 "metadata": {
  "kernelspec": {
   "display_name": "Python 3 (ipykernel)",
   "language": "python",
   "name": "python3"
  },
  "language_info": {
   "codemirror_mode": {
    "name": "ipython",
    "version": 3
   },
   "file_extension": ".py",
   "mimetype": "text/x-python",
   "name": "python",
   "nbconvert_exporter": "python",
   "pygments_lexer": "ipython3",
   "version": "3.10.10"
  },
  "vscode": {
   "interpreter": {
    "hash": "b0fa6594d8f4cbf19f97940f81e996739fb7646882a419484c72d19e05852a7e"
   }
  }
 },
 "nbformat": 4,
 "nbformat_minor": 5
}
